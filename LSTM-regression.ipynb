{
 "cells": [
  {
   "cell_type": "code",
   "execution_count": 1,
   "id": "c9f35bf5",
   "metadata": {},
   "outputs": [],
   "source": [
    "import numpy as np\n",
    "import pandas as pd\n",
    "import string\n",
    "import nltk\n",
    "import typing\n",
    "from sklearn.model_selection import train_test_split\n",
    "from sklearn.metrics import confusion_matrix, accuracy_score\n",
    "import matplotlib.pyplot as plt\n",
    "import seaborn as sns\n",
    "\n",
    "from tqdm.notebook import tqdm\n",
    "from tensorflow.keras.preprocessing.text import Tokenizer\n",
    "from tensorflow.keras.preprocessing.sequence import pad_sequences\n",
    "from tensorflow.keras.models import Sequential\n",
    "from tensorflow.keras.layers import Embedding, LSTM, Dense, SpatialDropout1D, Conv1D, MaxPool1D, SimpleRNN, Bidirectional, Reshape, Conv2D, MaxPooling2D\n",
    "from gensim.models import Word2Vec\n",
    "from tensorflow.keras.callbacks import EarlyStopping\n",
    "from tensorflow.keras import regularizers\n"
   ]
  },
  {
   "cell_type": "code",
   "execution_count": 2,
   "id": "71b56f5f",
   "metadata": {
    "scrolled": true
   },
   "outputs": [
    {
     "name": "stdout",
     "output_type": "stream",
     "text": [
      "Number of duplicate values: 0\n"
     ]
    }
   ],
   "source": [
    "# read the data\n",
    "data_dir = \"Cell_Phones_and_Accessories_5.json\"\n",
    "df = pd.read_json(data_dir, lines=True)\n",
    "\n",
    "# delete duplicates\n",
    "df = df.astype(str)\n",
    "duplicates = df.duplicated()\n",
    "print(\"Number of duplicate values:\", duplicates.sum())\n",
    "\n",
    "df = df.drop(['reviewerID', 'asin', 'reviewerName', 'helpful', 'summary', 'unixReviewTime', 'reviewTime'], axis=1)\n",
    "\n",
    "# Filter out reviews with more than 200 words\n",
    "df = df[df['reviewText'].apply(lambda x: len(x.split()) <= 200)]\n",
    "\n",
    "# balance the score\n",
    "rating_counts = df['overall'].value_counts()\n",
    "min_count = rating_counts.min()\n",
    "\n",
    "# check for null values\n",
    "df['reviewText'].isnull().sum()\n",
    "\n",
    "balanced_df = df.groupby('overall').apply(lambda x: x.sample(n=min_count, random_state=1)).reset_index(drop=True)\n",
    "shuffled_df = balanced_df.sample(frac=1, random_state=42).reset_index(drop=True)\n",
    "shuffled_df.to_json('balanced_reviews.json', orient='records', lines=True)"
   ]
  },
  {
   "cell_type": "code",
   "execution_count": 3,
   "id": "39bde1e4",
   "metadata": {},
   "outputs": [],
   "source": [
    "train_df, test_df = train_test_split(shuffled_df, test_size=0.3, random_state=42)"
   ]
  },
  {
   "cell_type": "code",
   "execution_count": 4,
   "id": "1b231a03",
   "metadata": {},
   "outputs": [
    {
     "name": "stdout",
     "output_type": "stream",
     "text": [
      "They look good and stick good! I just don't like the rounded shape because I was always bumping it and Siri kept popping up and it was irritating. I just won't buy a product like this again\n",
      "\n",
      "\n",
      "These stickers work like the review says they do. They stick on great and they stay on the phone. They are super stylish and I can share them with my sister. :)\n",
      "\n",
      "\n",
      "These are awesome and make my phone look so stylish! I have only used one so far and have had it on for almost a year! CAN YOU BELIEVE THAT! ONE YEAR!! Great quality!\n",
      "\n",
      "\n",
      "Item arrived in great time and was in perfect condition. However, I ordered these buttons because they were a great deal and included a FREE screen protector. I never received one. Though its not a big deal, it would've been nice to get it since they claim it comes with one.\n",
      "\n",
      "\n",
      "awesome! stays on, and looks great. can be used on multiple apple products.  especially having nails, it helps to have an elevated key.\n",
      "\n",
      "\n"
     ]
    }
   ],
   "source": [
    "# printing some reviews to see insights.\n",
    "for review in df['reviewText'][:5]:\n",
    "    print(review+'\\n'+'\\n')"
   ]
  },
  {
   "cell_type": "code",
   "execution_count": 5,
   "id": "8bac540d",
   "metadata": {},
   "outputs": [],
   "source": [
    "from gensim.models import KeyedVectors\n",
    "from gensim.models import Word2Vec\n",
    "from nltk.tokenize import word_tokenize\n",
    "import nltk\n",
    "\n",
    "# separate words\n",
    "train_df['tokenized'] = train_df['reviewText'].apply(lambda x: word_tokenize(x.lower()))\n",
    "test_df['tokenized'] = test_df['reviewText'].apply(lambda x: word_tokenize(x.lower()))\n",
    "\n",
    "# train Word2Vec model\n",
    "word2vec_model = Word2Vec(sentences=train_df['tokenized'], vector_size=200, window=5, min_count=1, workers=4)\n"
   ]
  },
  {
   "cell_type": "code",
   "execution_count": 6,
   "id": "b484c34e",
   "metadata": {},
   "outputs": [],
   "source": [
    "# tokenizing\n",
    "tokenizer = Tokenizer(num_words=10000)\n",
    "tokenizer.fit_on_texts(train_df['reviewText'])\n",
    "\n",
    "X_train_seq = tokenizer.texts_to_sequences(train_df['reviewText'])\n",
    "X_test_seq = tokenizer.texts_to_sequences(test_df['reviewText'])\n",
    "\n",
    "# padding\n",
    "max_len = 200\n",
    "X_train_pad = pad_sequences(X_train_seq, maxlen=max_len)\n",
    "X_test_pad = pad_sequences(X_test_seq, maxlen=max_len)\n",
    "\n",
    "# label\n",
    "y_train = train_df['overall'].apply(lambda x: int(x) - 1)\n",
    "y_test = test_df['overall'].apply(lambda x: int(x) - 1)"
   ]
  },
  {
   "cell_type": "code",
   "execution_count": 7,
   "id": "62997c9d",
   "metadata": {},
   "outputs": [
    {
     "name": "stdout",
     "output_type": "stream",
     "text": [
      "[[ 0.00000000e+00  0.00000000e+00  0.00000000e+00 ...  0.00000000e+00\n",
      "   0.00000000e+00  0.00000000e+00]\n",
      " [-1.29304135e+00  5.87491751e-01  4.11231101e-01 ...  3.11293453e-01\n",
      "   3.02421421e-01 -2.45574474e-01]\n",
      " [ 2.29285717e-01  2.03365192e-01 -1.24748707e+00 ... -2.46774361e-01\n",
      "   6.16172671e-01 -6.03508830e-01]\n",
      " ...\n",
      " [ 9.85456817e-03  4.84694308e-03  1.34307817e-02 ... -6.70009479e-03\n",
      "  -9.08466754e-04  3.94437183e-03]\n",
      " [ 1.11240642e-02 -2.46007228e-03 -6.48981426e-03 ... -3.88533995e-03\n",
      "  -7.21555762e-03 -1.27085075e-02]\n",
      " [ 5.11840265e-03  6.09438494e-03 -7.13858893e-03 ... -1.76486801e-02\n",
      "   1.06230602e-02  9.20460152e-04]]\n"
     ]
    }
   ],
   "source": [
    "embedding_dim = 200\n",
    "word_index = tokenizer.word_index\n",
    "\n",
    "# build embeding matrix\n",
    "embedding_matrix = np.zeros((len(word_index) + 1, embedding_dim))\n",
    "for word, i in word_index.items():\n",
    "    if word in word2vec_model.wv:\n",
    "        embedding_matrix[i] = word2vec_model.wv[word]\n",
    "print(embedding_matrix)"
   ]
  },
  {
   "cell_type": "code",
   "execution_count": 8,
   "id": "5880bf4a",
   "metadata": {},
   "outputs": [
    {
     "name": "stderr",
     "output_type": "stream",
     "text": [
      "C:\\Users\\Admin\\anaconda3\\Lib\\site-packages\\keras\\src\\layers\\core\\embedding.py:90: UserWarning: Argument `input_length` is deprecated. Just remove it.\n",
      "  warnings.warn(\n"
     ]
    },
    {
     "data": {
      "text/html": [
       "<pre style=\"white-space:pre;overflow-x:auto;line-height:normal;font-family:Menlo,'DejaVu Sans Mono',consolas,'Courier New',monospace\"><span style=\"font-weight: bold\">Model: \"sequential\"</span>\n",
       "</pre>\n"
      ],
      "text/plain": [
       "\u001b[1mModel: \"sequential\"\u001b[0m\n"
      ]
     },
     "metadata": {},
     "output_type": "display_data"
    },
    {
     "data": {
      "text/html": [
       "<pre style=\"white-space:pre;overflow-x:auto;line-height:normal;font-family:Menlo,'DejaVu Sans Mono',consolas,'Courier New',monospace\">┏━━━━━━━━━━━━━━━━━━━━━━━━━━━━━━━━━━━━━━┳━━━━━━━━━━━━━━━━━━━━━━━━━━━━━┳━━━━━━━━━━━━━━━━━┓\n",
       "┃<span style=\"font-weight: bold\"> Layer (type)                         </span>┃<span style=\"font-weight: bold\"> Output Shape                </span>┃<span style=\"font-weight: bold\">         Param # </span>┃\n",
       "┡━━━━━━━━━━━━━━━━━━━━━━━━━━━━━━━━━━━━━━╇━━━━━━━━━━━━━━━━━━━━━━━━━━━━━╇━━━━━━━━━━━━━━━━━┩\n",
       "│ embedding (<span style=\"color: #0087ff; text-decoration-color: #0087ff\">Embedding</span>)                │ ?                           │       <span style=\"color: #00af00; text-decoration-color: #00af00\">5,368,000</span> │\n",
       "├──────────────────────────────────────┼─────────────────────────────┼─────────────────┤\n",
       "│ lstm (<span style=\"color: #0087ff; text-decoration-color: #0087ff\">LSTM</span>)                          │ ?                           │     <span style=\"color: #00af00; text-decoration-color: #00af00\">0</span> (unbuilt) │\n",
       "├──────────────────────────────────────┼─────────────────────────────┼─────────────────┤\n",
       "│ lstm_1 (<span style=\"color: #0087ff; text-decoration-color: #0087ff\">LSTM</span>)                        │ ?                           │     <span style=\"color: #00af00; text-decoration-color: #00af00\">0</span> (unbuilt) │\n",
       "├──────────────────────────────────────┼─────────────────────────────┼─────────────────┤\n",
       "│ dense (<span style=\"color: #0087ff; text-decoration-color: #0087ff\">Dense</span>)                        │ ?                           │     <span style=\"color: #00af00; text-decoration-color: #00af00\">0</span> (unbuilt) │\n",
       "└──────────────────────────────────────┴─────────────────────────────┴─────────────────┘\n",
       "</pre>\n"
      ],
      "text/plain": [
       "┏━━━━━━━━━━━━━━━━━━━━━━━━━━━━━━━━━━━━━━┳━━━━━━━━━━━━━━━━━━━━━━━━━━━━━┳━━━━━━━━━━━━━━━━━┓\n",
       "┃\u001b[1m \u001b[0m\u001b[1mLayer (type)                        \u001b[0m\u001b[1m \u001b[0m┃\u001b[1m \u001b[0m\u001b[1mOutput Shape               \u001b[0m\u001b[1m \u001b[0m┃\u001b[1m \u001b[0m\u001b[1m        Param #\u001b[0m\u001b[1m \u001b[0m┃\n",
       "┡━━━━━━━━━━━━━━━━━━━━━━━━━━━━━━━━━━━━━━╇━━━━━━━━━━━━━━━━━━━━━━━━━━━━━╇━━━━━━━━━━━━━━━━━┩\n",
       "│ embedding (\u001b[38;5;33mEmbedding\u001b[0m)                │ ?                           │       \u001b[38;5;34m5,368,000\u001b[0m │\n",
       "├──────────────────────────────────────┼─────────────────────────────┼─────────────────┤\n",
       "│ lstm (\u001b[38;5;33mLSTM\u001b[0m)                          │ ?                           │     \u001b[38;5;34m0\u001b[0m (unbuilt) │\n",
       "├──────────────────────────────────────┼─────────────────────────────┼─────────────────┤\n",
       "│ lstm_1 (\u001b[38;5;33mLSTM\u001b[0m)                        │ ?                           │     \u001b[38;5;34m0\u001b[0m (unbuilt) │\n",
       "├──────────────────────────────────────┼─────────────────────────────┼─────────────────┤\n",
       "│ dense (\u001b[38;5;33mDense\u001b[0m)                        │ ?                           │     \u001b[38;5;34m0\u001b[0m (unbuilt) │\n",
       "└──────────────────────────────────────┴─────────────────────────────┴─────────────────┘\n"
      ]
     },
     "metadata": {},
     "output_type": "display_data"
    },
    {
     "data": {
      "text/html": [
       "<pre style=\"white-space:pre;overflow-x:auto;line-height:normal;font-family:Menlo,'DejaVu Sans Mono',consolas,'Courier New',monospace\"><span style=\"font-weight: bold\"> Total params: </span><span style=\"color: #00af00; text-decoration-color: #00af00\">5,368,000</span> (20.48 MB)\n",
       "</pre>\n"
      ],
      "text/plain": [
       "\u001b[1m Total params: \u001b[0m\u001b[38;5;34m5,368,000\u001b[0m (20.48 MB)\n"
      ]
     },
     "metadata": {},
     "output_type": "display_data"
    },
    {
     "data": {
      "text/html": [
       "<pre style=\"white-space:pre;overflow-x:auto;line-height:normal;font-family:Menlo,'DejaVu Sans Mono',consolas,'Courier New',monospace\"><span style=\"font-weight: bold\"> Trainable params: </span><span style=\"color: #00af00; text-decoration-color: #00af00\">0</span> (0.00 B)\n",
       "</pre>\n"
      ],
      "text/plain": [
       "\u001b[1m Trainable params: \u001b[0m\u001b[38;5;34m0\u001b[0m (0.00 B)\n"
      ]
     },
     "metadata": {},
     "output_type": "display_data"
    },
    {
     "data": {
      "text/html": [
       "<pre style=\"white-space:pre;overflow-x:auto;line-height:normal;font-family:Menlo,'DejaVu Sans Mono',consolas,'Courier New',monospace\"><span style=\"font-weight: bold\"> Non-trainable params: </span><span style=\"color: #00af00; text-decoration-color: #00af00\">5,368,000</span> (20.48 MB)\n",
       "</pre>\n"
      ],
      "text/plain": [
       "\u001b[1m Non-trainable params: \u001b[0m\u001b[38;5;34m5,368,000\u001b[0m (20.48 MB)\n"
      ]
     },
     "metadata": {},
     "output_type": "display_data"
    },
    {
     "name": "stdout",
     "output_type": "stream",
     "text": [
      "Epoch 1/100\n",
      "\u001b[1m859/859\u001b[0m \u001b[32m━━━━━━━━━━━━━━━━━━━━\u001b[0m\u001b[37m\u001b[0m \u001b[1m125s\u001b[0m 140ms/step - loss: 1.9961 - mae: 1.1596 - val_loss: 1.1711 - val_mae: 0.8573\n",
      "Epoch 2/100\n",
      "\u001b[1m859/859\u001b[0m \u001b[32m━━━━━━━━━━━━━━━━━━━━\u001b[0m\u001b[37m\u001b[0m \u001b[1m121s\u001b[0m 141ms/step - loss: 1.2114 - mae: 0.8787 - val_loss: 1.0285 - val_mae: 0.8010\n",
      "Epoch 3/100\n",
      "\u001b[1m859/859\u001b[0m \u001b[32m━━━━━━━━━━━━━━━━━━━━\u001b[0m\u001b[37m\u001b[0m \u001b[1m131s\u001b[0m 153ms/step - loss: 1.0958 - mae: 0.8259 - val_loss: 1.0111 - val_mae: 0.7847\n",
      "Epoch 4/100\n",
      "\u001b[1m859/859\u001b[0m \u001b[32m━━━━━━━━━━━━━━━━━━━━\u001b[0m\u001b[37m\u001b[0m \u001b[1m135s\u001b[0m 157ms/step - loss: 1.0300 - mae: 0.7941 - val_loss: 0.9220 - val_mae: 0.7401\n",
      "Epoch 5/100\n",
      "\u001b[1m859/859\u001b[0m \u001b[32m━━━━━━━━━━━━━━━━━━━━\u001b[0m\u001b[37m\u001b[0m \u001b[1m132s\u001b[0m 154ms/step - loss: 1.0055 - mae: 0.7784 - val_loss: 0.9200 - val_mae: 0.7322\n",
      "Epoch 6/100\n",
      "\u001b[1m859/859\u001b[0m \u001b[32m━━━━━━━━━━━━━━━━━━━━\u001b[0m\u001b[37m\u001b[0m \u001b[1m143s\u001b[0m 166ms/step - loss: 0.9483 - mae: 0.7550 - val_loss: 0.9039 - val_mae: 0.7330\n",
      "Epoch 7/100\n",
      "\u001b[1m859/859\u001b[0m \u001b[32m━━━━━━━━━━━━━━━━━━━━\u001b[0m\u001b[37m\u001b[0m \u001b[1m109s\u001b[0m 127ms/step - loss: 0.9284 - mae: 0.7444 - val_loss: 0.8917 - val_mae: 0.7223\n",
      "Epoch 8/100\n",
      "\u001b[1m859/859\u001b[0m \u001b[32m━━━━━━━━━━━━━━━━━━━━\u001b[0m\u001b[37m\u001b[0m \u001b[1m104s\u001b[0m 121ms/step - loss: 0.9353 - mae: 0.7473 - val_loss: 0.8587 - val_mae: 0.7092\n",
      "Epoch 9/100\n",
      "\u001b[1m859/859\u001b[0m \u001b[32m━━━━━━━━━━━━━━━━━━━━\u001b[0m\u001b[37m\u001b[0m \u001b[1m150s\u001b[0m 174ms/step - loss: 0.8929 - mae: 0.7278 - val_loss: 0.8528 - val_mae: 0.7098\n",
      "Epoch 10/100\n",
      "\u001b[1m859/859\u001b[0m \u001b[32m━━━━━━━━━━━━━━━━━━━━\u001b[0m\u001b[37m\u001b[0m \u001b[1m151s\u001b[0m 175ms/step - loss: 0.8849 - mae: 0.7229 - val_loss: 0.8412 - val_mae: 0.6961\n",
      "Epoch 11/100\n",
      "\u001b[1m859/859\u001b[0m \u001b[32m━━━━━━━━━━━━━━━━━━━━\u001b[0m\u001b[37m\u001b[0m \u001b[1m180s\u001b[0m 209ms/step - loss: 0.8875 - mae: 0.7240 - val_loss: 0.8340 - val_mae: 0.6972\n",
      "Epoch 12/100\n",
      "\u001b[1m859/859\u001b[0m \u001b[32m━━━━━━━━━━━━━━━━━━━━\u001b[0m\u001b[37m\u001b[0m \u001b[1m142s\u001b[0m 165ms/step - loss: 0.8731 - mae: 0.7186 - val_loss: 0.8278 - val_mae: 0.6899\n",
      "Epoch 13/100\n",
      "\u001b[1m859/859\u001b[0m \u001b[32m━━━━━━━━━━━━━━━━━━━━\u001b[0m\u001b[37m\u001b[0m \u001b[1m114s\u001b[0m 133ms/step - loss: 0.8751 - mae: 0.7143 - val_loss: 0.8202 - val_mae: 0.6844\n",
      "Epoch 14/100\n",
      "\u001b[1m859/859\u001b[0m \u001b[32m━━━━━━━━━━━━━━━━━━━━\u001b[0m\u001b[37m\u001b[0m \u001b[1m122s\u001b[0m 142ms/step - loss: 0.8420 - mae: 0.6997 - val_loss: 0.8397 - val_mae: 0.6889\n",
      "Epoch 15/100\n",
      "\u001b[1m859/859\u001b[0m \u001b[32m━━━━━━━━━━━━━━━━━━━━\u001b[0m\u001b[37m\u001b[0m \u001b[1m132s\u001b[0m 154ms/step - loss: 0.8492 - mae: 0.7027 - val_loss: 0.8137 - val_mae: 0.6792\n",
      "Epoch 16/100\n",
      "\u001b[1m859/859\u001b[0m \u001b[32m━━━━━━━━━━━━━━━━━━━━\u001b[0m\u001b[37m\u001b[0m \u001b[1m135s\u001b[0m 157ms/step - loss: 0.8454 - mae: 0.7015 - val_loss: 0.8088 - val_mae: 0.6812\n",
      "Epoch 17/100\n",
      "\u001b[1m859/859\u001b[0m \u001b[32m━━━━━━━━━━━━━━━━━━━━\u001b[0m\u001b[37m\u001b[0m \u001b[1m137s\u001b[0m 160ms/step - loss: 0.8256 - mae: 0.6914 - val_loss: 0.8184 - val_mae: 0.6869\n",
      "Epoch 18/100\n",
      "\u001b[1m859/859\u001b[0m \u001b[32m━━━━━━━━━━━━━━━━━━━━\u001b[0m\u001b[37m\u001b[0m \u001b[1m134s\u001b[0m 157ms/step - loss: 0.8429 - mae: 0.7003 - val_loss: 0.8139 - val_mae: 0.6805\n",
      "Epoch 19/100\n",
      "\u001b[1m124/859\u001b[0m \u001b[32m━━\u001b[0m\u001b[37m━━━━━━━━━━━━━━━━━━\u001b[0m \u001b[1m1:46\u001b[0m 146ms/step - loss: 0.8173 - mae: 0.6844"
     ]
    },
    {
     "name": "stderr",
     "output_type": "stream",
     "text": [
      "\n",
      "KeyboardInterrupt\n",
      "\n"
     ]
    }
   ],
   "source": [
    "# LSTM\n",
    "regr_model = Sequential([\n",
    "    Embedding(input_dim=len(word_index) + 1, \n",
    "              output_dim=embedding_dim, \n",
    "              weights=[embedding_matrix], \n",
    "              input_length=max_len, \n",
    "              trainable=False),\n",
    "    # Conv1D(filters=16, kernel_size = 3, strides= 2, activation=\"relu\", \n",
    "    #        kernel_regularizer=regularizers.L1L2(l1=1e-5, l2=1e-4), bias_regularizer=regularizers.L2(1e-4)),\n",
    "    # Conv1D(filters=8, kernel_size = 3, strides= 2, activation=\"relu\", \n",
    "    #        kernel_regularizer=regularizers.L1L2(l1=1e-5, l2=1e-4), bias_regularizer=regularizers.L2(1e-4)),\n",
    "    LSTM(20, dropout=0.2, recurrent_dropout=0.2, return_sequences = True,\n",
    "         kernel_regularizer=regularizers.L1L2(l1=1e-5, l2=1e-4), bias_regularizer=regularizers.L2(1e-4)),\n",
    "    LSTM(20, dropout=0.2, recurrent_dropout=0.2, \n",
    "         kernel_regularizer=regularizers.L1L2(l1=1e-5, l2=1e-4), bias_regularizer=regularizers.L2(1e-4)),\n",
    "    Dense(1, activation='linear')\n",
    "])\n",
    "\n",
    "early_stopping = EarlyStopping(\n",
    "    monitor='val_loss',  # Quantity to be monitored.\n",
    "    min_delta=0,  # Minimum change in the monitored quantity to qualify as an improvement.\n",
    "    patience=5,  # Number of epochs with no improvement after which training will be stopped.\n",
    "    verbose=1,  # Verbosity mode, 0 or 1.\n",
    "    mode='auto',  # One of {\"auto\", \"min\", \"max\"}.\n",
    "    baseline=None,  # Baseline value for the monitored quantity to be compared with the loss.\n",
    "    restore_best_weights=True  # Whether to restore model weights from the epoch with the best value of the monitored quantity.\n",
    ")\n",
    "\n",
    "regr_model.compile(loss='mean_squared_error', optimizer='adam', metrics=['mae'])\n",
    "regr_model.summary()\n",
    "\n",
    "# training\n",
    "history = regr_model.fit(X_train_pad, y_train, epochs=100, batch_size=32, validation_split=0.2, callbacks = [early_stopping])"
   ]
  },
  {
   "cell_type": "code",
   "execution_count": 9,
   "id": "8c302f9c",
   "metadata": {},
   "outputs": [
    {
     "name": "stdout",
     "output_type": "stream",
     "text": [
      "\u001b[1m461/461\u001b[0m \u001b[32m━━━━━━━━━━━━━━━━━━━━\u001b[0m\u001b[37m\u001b[0m \u001b[1m19s\u001b[0m 40ms/step\n"
     ]
    }
   ],
   "source": [
    "y_pred = regr_model.predict(X_test_pad)\n",
    "y_pred_classes = [max(0, min(4, np.round(y[0]))) for y in y_pred]"
   ]
  },
  {
   "cell_type": "code",
   "execution_count": 10,
   "id": "ff8564a4",
   "metadata": {},
   "outputs": [
    {
     "name": "stdout",
     "output_type": "stream",
     "text": [
      "Accuracy: 0.4527981526759033\n"
     ]
    },
    {
     "data": {
      "image/png": "[encoded data removed]",
      "text/plain": [
       "<Figure size 600x500 with 2 Axes>"
      ]
     },
     "metadata": {},
     "output_type": "display_data"
    },
    {
     "name": "stdout",
     "output_type": "stream",
     "text": [
      "Off by one accuracy: 0.9126596033686498\n"
     ]
    }
   ],
   "source": [
    "accuracy = accuracy_score(y_test, y_pred_classes)\n",
    "print(\"Accuracy:\", accuracy)\n",
    "\n",
    "cm = confusion_matrix(y_test, y_pred_classes)\n",
    "plt.figure(figsize=(6, 5))\n",
    "sns.heatmap(cm, annot=True, cmap='Oranges', fmt='d')\n",
    "plt.xlabel('Predicted')\n",
    "plt.ylabel('Actual')\n",
    "plt.show()\n",
    "\n",
    "off_by_one = np.mean(np.abs(np.array(y_test) - np.array(y_pred_classes)) <= 1)\n",
    "print(\"Off by one accuracy:\", off_by_one)"
   ]
  },
  {
   "cell_type": "code",
   "execution_count": null,
   "id": "739ead9f",
   "metadata": {},
   "outputs": [],
   "source": []
  }
 ],
 "metadata": {
  "kernelspec": {
   "display_name": "Python 3 (ipykernel)",
   "language": "python",
   "name": "python3"
  },
  "language_info": {
   "codemirror_mode": {
    "name": "ipython",
    "version": 3
   },
   "file_extension": ".py",
   "mimetype": "text/x-python",
   "name": "python",
   "nbconvert_exporter": "python",
   "pygments_lexer": "ipython3",
   "version": "3.11.4"
  }
 },
 "nbformat": 4,
 "nbformat_minor": 5
}
