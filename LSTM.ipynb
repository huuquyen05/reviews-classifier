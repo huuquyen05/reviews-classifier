{
 "cells": [
  {
   "cell_type": "code",
   "execution_count": 58,
   "id": "c9f35bf5",
   "metadata": {},
   "outputs": [],
   "source": [
    "import numpy as np\n",
    "import pandas as pd\n",
    "import string\n",
    "import nltk\n",
    "import typing\n",
    "from sklearn.model_selection import train_test_split\n",
    "from sklearn.metrics import confusion_matrix, accuracy_score\n",
    "import matplotlib.pyplot as plt\n",
    "import seaborn as sns\n",
    "\n",
    "from tqdm.notebook import tqdm\n",
    "from tensorflow.keras.preprocessing.text import Tokenizer\n",
    "from tensorflow.keras.preprocessing.sequence import pad_sequences\n",
    "from tensorflow.keras.models import Sequential\n",
    "from tensorflow.keras.layers import Embedding, LSTM, Dense, SpatialDropout1D, Conv1D, MaxPool1D, SimpleRNN, Bidirectional, Reshape, Conv2D, MaxPooling2D\n",
    "from gensim.models import Word2Vec\n",
    "from tensorflow.keras.callbacks import EarlyStopping\n",
    "from tensorflow.keras import regularizers\n"
   ]
  },
  {
   "cell_type": "code",
   "execution_count": 59,
   "id": "71b56f5f",
   "metadata": {
    "scrolled": true
   },
   "outputs": [
    {
     "name": "stdout",
     "output_type": "stream",
     "text": [
      "Number of duplicate values: 0\n"
     ]
    }
   ],
   "source": [
    "# read the data\n",
    "data_dir = \"Cell_Phones_and_Accessories_5.json\"\n",
    "df = pd.read_json(data_dir, lines=True)\n",
    "\n",
    "# delete duplicates\n",
    "df = df.astype(str)\n",
    "duplicates = df.duplicated()\n",
    "print(\"Number of duplicate values:\", duplicates.sum())\n",
    "\n",
    "df = df.drop(['reviewerID', 'asin', 'reviewerName', 'helpful', 'summary', 'unixReviewTime', 'reviewTime'], axis=1)\n",
    "\n",
    "# Filter out reviews with more than 200 words\n",
    "df = df[df['reviewText'].apply(lambda x: len(x.split()) <= 200)]\n",
    "\n",
    "# balance the score\n",
    "rating_counts = df['overall'].value_counts()\n",
    "min_count = rating_counts.min()\n",
    "\n",
    "# check for null values\n",
    "df['reviewText'].isnull().sum()\n",
    "\n",
    "balanced_df = df.groupby('overall').apply(lambda x: x.sample(n=min_count, random_state=1)).reset_index(drop=True)\n",
    "shuffled_df = balanced_df.sample(frac=1, random_state=42).reset_index(drop=True)\n",
    "shuffled_df.to_json('balanced_reviews.json', orient='records', lines=True)"
   ]
  },
  {
   "cell_type": "code",
   "execution_count": 60,
   "id": "39bde1e4",
   "metadata": {},
   "outputs": [],
   "source": [
    "train_df, test_df = train_test_split(shuffled_df, test_size=0.3, random_state=42)"
   ]
  },
  {
   "cell_type": "code",
   "execution_count": 61,
   "id": "1b231a03",
   "metadata": {},
   "outputs": [
    {
     "name": "stdout",
     "output_type": "stream",
     "text": [
      "They look good and stick good! I just don't like the rounded shape because I was always bumping it and Siri kept popping up and it was irritating. I just won't buy a product like this again\n",
      "\n",
      "\n",
      "These stickers work like the review says they do. They stick on great and they stay on the phone. They are super stylish and I can share them with my sister. :)\n",
      "\n",
      "\n",
      "These are awesome and make my phone look so stylish! I have only used one so far and have had it on for almost a year! CAN YOU BELIEVE THAT! ONE YEAR!! Great quality!\n",
      "\n",
      "\n",
      "Item arrived in great time and was in perfect condition. However, I ordered these buttons because they were a great deal and included a FREE screen protector. I never received one. Though its not a big deal, it would've been nice to get it since they claim it comes with one.\n",
      "\n",
      "\n",
      "awesome! stays on, and looks great. can be used on multiple apple products.  especially having nails, it helps to have an elevated key.\n",
      "\n",
      "\n"
     ]
    }
   ],
   "source": [
    "# printing some reviews to see insights.\n",
    "for review in df['reviewText'][:5]:\n",
    "    print(review+'\\n'+'\\n')"
   ]
  },
  {
   "cell_type": "code",
   "execution_count": 62,
   "id": "8bac540d",
   "metadata": {},
   "outputs": [],
   "source": [
    "from gensim.models import KeyedVectors\n",
    "from gensim.models import Word2Vec\n",
    "from nltk.tokenize import word_tokenize\n",
    "import nltk\n",
    "\n",
    "# separate words\n",
    "train_df['tokenized'] = train_df['reviewText'].apply(lambda x: word_tokenize(x.lower()))\n",
    "test_df['tokenized'] = test_df['reviewText'].apply(lambda x: word_tokenize(x.lower()))\n",
    "\n",
    "# train Word2Vec model\n",
    "word2vec_model = Word2Vec(sentences=train_df['tokenized'], vector_size=200, window=5, min_count=1, workers=4)\n"
   ]
  },
  {
   "cell_type": "code",
   "execution_count": 63,
   "id": "b484c34e",
   "metadata": {},
   "outputs": [],
   "source": [
    "# tokenizing\n",
    "tokenizer = Tokenizer(num_words=10000)\n",
    "tokenizer.fit_on_texts(train_df['reviewText'])\n",
    "\n",
    "X_train_seq = tokenizer.texts_to_sequences(train_df['reviewText'])\n",
    "X_test_seq = tokenizer.texts_to_sequences(test_df['reviewText'])\n",
    "\n",
    "# padding\n",
    "max_len = 200\n",
    "X_train_pad = pad_sequences(X_train_seq, maxlen=max_len)\n",
    "X_test_pad = pad_sequences(X_test_seq, maxlen=max_len)\n",
    "\n",
    "# label\n",
    "y_train = train_df['overall'].apply(lambda x: int(x) - 1)\n",
    "y_test = test_df['overall'].apply(lambda x: int(x) - 1)"
   ]
  },
  {
   "cell_type": "code",
   "execution_count": 64,
   "id": "62997c9d",
   "metadata": {},
   "outputs": [
    {
     "name": "stdout",
     "output_type": "stream",
     "text": [
      "[[ 0.00000000e+00  0.00000000e+00  0.00000000e+00 ...  0.00000000e+00\n",
      "   0.00000000e+00  0.00000000e+00]\n",
      " [-6.15794837e-01  1.23975468e+00  5.00538409e-01 ...  6.92511722e-02\n",
      "   6.56663477e-01  1.16405271e-01]\n",
      " [ 5.97662330e-01  4.02924031e-01 -1.05738807e+00 ... -2.02485144e-01\n",
      "   7.50973225e-01 -8.31242502e-01]\n",
      " ...\n",
      " [-1.12376381e-02  1.68426577e-02  1.76851414e-02 ... -1.01152877e-03\n",
      "  -1.75238180e-03 -2.01558950e-03]\n",
      " [ 1.09874795e-03  1.16199702e-02  6.21406827e-03 ... -1.32420985e-02\n",
      "  -7.47790560e-03 -1.19837150e-02]\n",
      " [-2.54927506e-03  2.37434842e-02  7.44365994e-03 ... -4.51149931e-03\n",
      "   1.62337404e-02  5.43403067e-03]]\n"
     ]
    }
   ],
   "source": [
    "embedding_dim = 200\n",
    "word_index = tokenizer.word_index\n",
    "\n",
    "# build embeding matrix\n",
    "embedding_matrix = np.zeros((len(word_index) + 1, embedding_dim))\n",
    "for word, i in word_index.items():\n",
    "    if word in word2vec_model.wv:\n",
    "        embedding_matrix[i] = word2vec_model.wv[word]\n",
    "print(embedding_matrix)"
   ]
  },
  {
   "cell_type": "code",
   "execution_count": 93,
   "id": "5880bf4a",
   "metadata": {},
   "outputs": [
    {
     "data": {
      "text/html": [
       "<pre style=\"white-space:pre;overflow-x:auto;line-height:normal;font-family:Menlo,'DejaVu Sans Mono',consolas,'Courier New',monospace\"><span style=\"font-weight: bold\">Model: \"sequential_43\"</span>\n",
       "</pre>\n"
      ],
      "text/plain": [
       "\u001b[1mModel: \"sequential_43\"\u001b[0m\n"
      ]
     },
     "metadata": {},
     "output_type": "display_data"
    },
    {
     "data": {
      "text/html": [
       "<pre style=\"white-space:pre;overflow-x:auto;line-height:normal;font-family:Menlo,'DejaVu Sans Mono',consolas,'Courier New',monospace\">┏━━━━━━━━━━━━━━━━━━━━━━━━━━━━━━━━━━━━━━┳━━━━━━━━━━━━━━━━━━━━━━━━━━━━━┳━━━━━━━━━━━━━━━━━┓\n",
       "┃<span style=\"font-weight: bold\"> Layer (type)                         </span>┃<span style=\"font-weight: bold\"> Output Shape                </span>┃<span style=\"font-weight: bold\">         Param # </span>┃\n",
       "┡━━━━━━━━━━━━━━━━━━━━━━━━━━━━━━━━━━━━━━╇━━━━━━━━━━━━━━━━━━━━━━━━━━━━━╇━━━━━━━━━━━━━━━━━┩\n",
       "│ embedding_47 (<span style=\"color: #0087ff; text-decoration-color: #0087ff\">Embedding</span>)             │ ?                           │       <span style=\"color: #00af00; text-decoration-color: #00af00\">5,368,000</span> │\n",
       "├──────────────────────────────────────┼─────────────────────────────┼─────────────────┤\n",
       "│ lstm_44 (<span style=\"color: #0087ff; text-decoration-color: #0087ff\">LSTM</span>)                       │ ?                           │     <span style=\"color: #00af00; text-decoration-color: #00af00\">0</span> (unbuilt) │\n",
       "├──────────────────────────────────────┼─────────────────────────────┼─────────────────┤\n",
       "│ lstm_45 (<span style=\"color: #0087ff; text-decoration-color: #0087ff\">LSTM</span>)                       │ ?                           │     <span style=\"color: #00af00; text-decoration-color: #00af00\">0</span> (unbuilt) │\n",
       "├──────────────────────────────────────┼─────────────────────────────┼─────────────────┤\n",
       "│ dense_43 (<span style=\"color: #0087ff; text-decoration-color: #0087ff\">Dense</span>)                     │ ?                           │     <span style=\"color: #00af00; text-decoration-color: #00af00\">0</span> (unbuilt) │\n",
       "└──────────────────────────────────────┴─────────────────────────────┴─────────────────┘\n",
       "</pre>\n"
      ],
      "text/plain": [
       "┏━━━━━━━━━━━━━━━━━━━━━━━━━━━━━━━━━━━━━━┳━━━━━━━━━━━━━━━━━━━━━━━━━━━━━┳━━━━━━━━━━━━━━━━━┓\n",
       "┃\u001b[1m \u001b[0m\u001b[1mLayer (type)                        \u001b[0m\u001b[1m \u001b[0m┃\u001b[1m \u001b[0m\u001b[1mOutput Shape               \u001b[0m\u001b[1m \u001b[0m┃\u001b[1m \u001b[0m\u001b[1m        Param #\u001b[0m\u001b[1m \u001b[0m┃\n",
       "┡━━━━━━━━━━━━━━━━━━━━━━━━━━━━━━━━━━━━━━╇━━━━━━━━━━━━━━━━━━━━━━━━━━━━━╇━━━━━━━━━━━━━━━━━┩\n",
       "│ embedding_47 (\u001b[38;5;33mEmbedding\u001b[0m)             │ ?                           │       \u001b[38;5;34m5,368,000\u001b[0m │\n",
       "├──────────────────────────────────────┼─────────────────────────────┼─────────────────┤\n",
       "│ lstm_44 (\u001b[38;5;33mLSTM\u001b[0m)                       │ ?                           │     \u001b[38;5;34m0\u001b[0m (unbuilt) │\n",
       "├──────────────────────────────────────┼─────────────────────────────┼─────────────────┤\n",
       "│ lstm_45 (\u001b[38;5;33mLSTM\u001b[0m)                       │ ?                           │     \u001b[38;5;34m0\u001b[0m (unbuilt) │\n",
       "├──────────────────────────────────────┼─────────────────────────────┼─────────────────┤\n",
       "│ dense_43 (\u001b[38;5;33mDense\u001b[0m)                     │ ?                           │     \u001b[38;5;34m0\u001b[0m (unbuilt) │\n",
       "└──────────────────────────────────────┴─────────────────────────────┴─────────────────┘\n"
      ]
     },
     "metadata": {},
     "output_type": "display_data"
    },
    {
     "data": {
      "text/html": [
       "<pre style=\"white-space:pre;overflow-x:auto;line-height:normal;font-family:Menlo,'DejaVu Sans Mono',consolas,'Courier New',monospace\"><span style=\"font-weight: bold\"> Total params: </span><span style=\"color: #00af00; text-decoration-color: #00af00\">5,368,000</span> (20.48 MB)\n",
       "</pre>\n"
      ],
      "text/plain": [
       "\u001b[1m Total params: \u001b[0m\u001b[38;5;34m5,368,000\u001b[0m (20.48 MB)\n"
      ]
     },
     "metadata": {},
     "output_type": "display_data"
    },
    {
     "data": {
      "text/html": [
       "<pre style=\"white-space:pre;overflow-x:auto;line-height:normal;font-family:Menlo,'DejaVu Sans Mono',consolas,'Courier New',monospace\"><span style=\"font-weight: bold\"> Trainable params: </span><span style=\"color: #00af00; text-decoration-color: #00af00\">0</span> (0.00 B)\n",
       "</pre>\n"
      ],
      "text/plain": [
       "\u001b[1m Trainable params: \u001b[0m\u001b[38;5;34m0\u001b[0m (0.00 B)\n"
      ]
     },
     "metadata": {},
     "output_type": "display_data"
    },
    {
     "data": {
      "text/html": [
       "<pre style=\"white-space:pre;overflow-x:auto;line-height:normal;font-family:Menlo,'DejaVu Sans Mono',consolas,'Courier New',monospace\"><span style=\"font-weight: bold\"> Non-trainable params: </span><span style=\"color: #00af00; text-decoration-color: #00af00\">5,368,000</span> (20.48 MB)\n",
       "</pre>\n"
      ],
      "text/plain": [
       "\u001b[1m Non-trainable params: \u001b[0m\u001b[38;5;34m5,368,000\u001b[0m (20.48 MB)\n"
      ]
     },
     "metadata": {},
     "output_type": "display_data"
    },
    {
     "name": "stdout",
     "output_type": "stream",
     "text": [
      "Epoch 1/100\n",
      "\u001b[1m859/859\u001b[0m \u001b[32m━━━━━━━━━━━━━━━━━━━━\u001b[0m\u001b[37m\u001b[0m \u001b[1m113s\u001b[0m 124ms/step - accuracy: 0.3312 - loss: 1.5160 - val_accuracy: 0.4387 - val_loss: 1.3185\n",
      "Epoch 2/100\n",
      "\u001b[1m859/859\u001b[0m \u001b[32m━━━━━━━━━━━━━━━━━━━━\u001b[0m\u001b[37m\u001b[0m \u001b[1m107s\u001b[0m 125ms/step - accuracy: 0.4275 - loss: 1.3433 - val_accuracy: 0.4629 - val_loss: 1.2704\n",
      "Epoch 3/100\n",
      "\u001b[1m859/859\u001b[0m \u001b[32m━━━━━━━━━━━━━━━━━━━━\u001b[0m\u001b[37m\u001b[0m \u001b[1m110s\u001b[0m 128ms/step - accuracy: 0.4471 - loss: 1.2975 - val_accuracy: 0.4630 - val_loss: 1.2594\n",
      "Epoch 4/100\n",
      "\u001b[1m859/859\u001b[0m \u001b[32m━━━━━━━━━━━━━━━━━━━━\u001b[0m\u001b[37m\u001b[0m \u001b[1m110s\u001b[0m 128ms/step - accuracy: 0.4683 - loss: 1.2655 - val_accuracy: 0.4825 - val_loss: 1.2295\n",
      "Epoch 5/100\n",
      "\u001b[1m859/859\u001b[0m \u001b[32m━━━━━━━━━━━━━━━━━━━━\u001b[0m\u001b[37m\u001b[0m \u001b[1m115s\u001b[0m 133ms/step - accuracy: 0.4730 - loss: 1.2498 - val_accuracy: 0.4830 - val_loss: 1.2166\n",
      "Epoch 6/100\n",
      "\u001b[1m859/859\u001b[0m \u001b[32m━━━━━━━━━━━━━━━━━━━━\u001b[0m\u001b[37m\u001b[0m \u001b[1m112s\u001b[0m 131ms/step - accuracy: 0.4766 - loss: 1.2357 - val_accuracy: 0.4901 - val_loss: 1.2042\n",
      "Epoch 7/100\n",
      "\u001b[1m859/859\u001b[0m \u001b[32m━━━━━━━━━━━━━━━━━━━━\u001b[0m\u001b[37m\u001b[0m \u001b[1m120s\u001b[0m 139ms/step - accuracy: 0.4775 - loss: 1.2284 - val_accuracy: 0.4972 - val_loss: 1.1919\n",
      "Epoch 8/100\n",
      "\u001b[1m859/859\u001b[0m \u001b[32m━━━━━━━━━━━━━━━━━━━━\u001b[0m\u001b[37m\u001b[0m \u001b[1m112s\u001b[0m 130ms/step - accuracy: 0.4944 - loss: 1.2079 - val_accuracy: 0.4967 - val_loss: 1.1911\n",
      "Epoch 9/100\n",
      "\u001b[1m859/859\u001b[0m \u001b[32m━━━━━━━━━━━━━━━━━━━━\u001b[0m\u001b[37m\u001b[0m \u001b[1m112s\u001b[0m 130ms/step - accuracy: 0.4998 - loss: 1.2088 - val_accuracy: 0.4935 - val_loss: 1.1886\n",
      "Epoch 10/100\n",
      "\u001b[1m859/859\u001b[0m \u001b[32m━━━━━━━━━━━━━━━━━━━━\u001b[0m\u001b[37m\u001b[0m \u001b[1m112s\u001b[0m 130ms/step - accuracy: 0.4942 - loss: 1.2062 - val_accuracy: 0.5049 - val_loss: 1.1752\n",
      "Epoch 11/100\n",
      "\u001b[1m859/859\u001b[0m \u001b[32m━━━━━━━━━━━━━━━━━━━━\u001b[0m\u001b[37m\u001b[0m \u001b[1m113s\u001b[0m 131ms/step - accuracy: 0.4977 - loss: 1.1924 - val_accuracy: 0.4988 - val_loss: 1.1844\n",
      "Epoch 12/100\n",
      "\u001b[1m859/859\u001b[0m \u001b[32m━━━━━━━━━━━━━━━━━━━━\u001b[0m\u001b[37m\u001b[0m \u001b[1m169s\u001b[0m 197ms/step - accuracy: 0.5026 - loss: 1.1900 - val_accuracy: 0.5038 - val_loss: 1.1696\n",
      "Epoch 13/100\n",
      "\u001b[1m859/859\u001b[0m \u001b[32m━━━━━━━━━━━━━━━━━━━━\u001b[0m\u001b[37m\u001b[0m \u001b[1m162s\u001b[0m 189ms/step - accuracy: 0.5012 - loss: 1.1852 - val_accuracy: 0.5052 - val_loss: 1.1639\n",
      "Epoch 14/100\n",
      "\u001b[1m859/859\u001b[0m \u001b[32m━━━━━━━━━━━━━━━━━━━━\u001b[0m\u001b[37m\u001b[0m \u001b[1m159s\u001b[0m 185ms/step - accuracy: 0.5085 - loss: 1.1752 - val_accuracy: 0.5058 - val_loss: 1.1654\n",
      "Epoch 15/100\n",
      "\u001b[1m859/859\u001b[0m \u001b[32m━━━━━━━━━━━━━━━━━━━━\u001b[0m\u001b[37m\u001b[0m \u001b[1m195s\u001b[0m 227ms/step - accuracy: 0.5060 - loss: 1.1765 - val_accuracy: 0.5108 - val_loss: 1.1593\n",
      "Epoch 16/100\n",
      "\u001b[1m859/859\u001b[0m \u001b[32m━━━━━━━━━━━━━━━━━━━━\u001b[0m\u001b[37m\u001b[0m \u001b[1m156s\u001b[0m 181ms/step - accuracy: 0.5147 - loss: 1.1705 - val_accuracy: 0.5081 - val_loss: 1.1607\n",
      "Epoch 17/100\n",
      "\u001b[1m859/859\u001b[0m \u001b[32m━━━━━━━━━━━━━━━━━━━━\u001b[0m\u001b[37m\u001b[0m \u001b[1m159s\u001b[0m 185ms/step - accuracy: 0.5195 - loss: 1.1602 - val_accuracy: 0.5060 - val_loss: 1.1568\n",
      "Epoch 18/100\n",
      "\u001b[1m859/859\u001b[0m \u001b[32m━━━━━━━━━━━━━━━━━━━━\u001b[0m\u001b[37m\u001b[0m \u001b[1m146s\u001b[0m 170ms/step - accuracy: 0.5091 - loss: 1.1635 - val_accuracy: 0.5106 - val_loss: 1.1551\n",
      "Epoch 19/100\n",
      "\u001b[1m859/859\u001b[0m \u001b[32m━━━━━━━━━━━━━━━━━━━━\u001b[0m\u001b[37m\u001b[0m \u001b[1m152s\u001b[0m 177ms/step - accuracy: 0.5211 - loss: 1.1543 - val_accuracy: 0.5141 - val_loss: 1.1496\n",
      "Epoch 20/100\n",
      "\u001b[1m859/859\u001b[0m \u001b[32m━━━━━━━━━━━━━━━━━━━━\u001b[0m\u001b[37m\u001b[0m \u001b[1m154s\u001b[0m 180ms/step - accuracy: 0.5234 - loss: 1.1544 - val_accuracy: 0.5186 - val_loss: 1.1526\n",
      "Epoch 21/100\n",
      "\u001b[1m859/859\u001b[0m \u001b[32m━━━━━━━━━━━━━━━━━━━━\u001b[0m\u001b[37m\u001b[0m \u001b[1m160s\u001b[0m 187ms/step - accuracy: 0.5211 - loss: 1.1467 - val_accuracy: 0.5128 - val_loss: 1.1579\n",
      "Epoch 22/100\n",
      "\u001b[1m859/859\u001b[0m \u001b[32m━━━━━━━━━━━━━━━━━━━━\u001b[0m\u001b[37m\u001b[0m \u001b[1m156s\u001b[0m 181ms/step - accuracy: 0.5196 - loss: 1.1493 - val_accuracy: 0.5150 - val_loss: 1.1555\n",
      "Epoch 23/100\n",
      "\u001b[1m859/859\u001b[0m \u001b[32m━━━━━━━━━━━━━━━━━━━━\u001b[0m\u001b[37m\u001b[0m \u001b[1m154s\u001b[0m 179ms/step - accuracy: 0.5131 - loss: 1.1581 - val_accuracy: 0.5170 - val_loss: 1.1493\n",
      "Epoch 24/100\n",
      "\u001b[1m859/859\u001b[0m \u001b[32m━━━━━━━━━━━━━━━━━━━━\u001b[0m\u001b[37m\u001b[0m \u001b[1m144s\u001b[0m 168ms/step - accuracy: 0.5171 - loss: 1.1534 - val_accuracy: 0.5172 - val_loss: 1.1423\n",
      "Epoch 25/100\n",
      "\u001b[1m859/859\u001b[0m \u001b[32m━━━━━━━━━━━━━━━━━━━━\u001b[0m\u001b[37m\u001b[0m \u001b[1m142s\u001b[0m 166ms/step - accuracy: 0.5232 - loss: 1.1401 - val_accuracy: 0.5153 - val_loss: 1.1412\n",
      "Epoch 26/100\n",
      "\u001b[1m859/859\u001b[0m \u001b[32m━━━━━━━━━━━━━━━━━━━━\u001b[0m\u001b[37m\u001b[0m \u001b[1m125s\u001b[0m 145ms/step - accuracy: 0.5251 - loss: 1.1366 - val_accuracy: 0.5137 - val_loss: 1.1484\n",
      "Epoch 27/100\n",
      "\u001b[1m859/859\u001b[0m \u001b[32m━━━━━━━━━━━━━━━━━━━━\u001b[0m\u001b[37m\u001b[0m \u001b[1m113s\u001b[0m 132ms/step - accuracy: 0.5251 - loss: 1.1377 - val_accuracy: 0.5191 - val_loss: 1.1379\n",
      "Epoch 28/100\n",
      "\u001b[1m859/859\u001b[0m \u001b[32m━━━━━━━━━━━━━━━━━━━━\u001b[0m\u001b[37m\u001b[0m \u001b[1m109s\u001b[0m 126ms/step - accuracy: 0.5225 - loss: 1.1374 - val_accuracy: 0.5154 - val_loss: 1.1400\n",
      "Epoch 29/100\n",
      "\u001b[1m859/859\u001b[0m \u001b[32m━━━━━━━━━━━━━━━━━━━━\u001b[0m\u001b[37m\u001b[0m \u001b[1m110s\u001b[0m 128ms/step - accuracy: 0.5241 - loss: 1.1353 - val_accuracy: 0.5202 - val_loss: 1.1365\n",
      "Epoch 30/100\n",
      "\u001b[1m859/859\u001b[0m \u001b[32m━━━━━━━━━━━━━━━━━━━━\u001b[0m\u001b[37m\u001b[0m \u001b[1m108s\u001b[0m 125ms/step - accuracy: 0.5247 - loss: 1.1356 - val_accuracy: 0.5163 - val_loss: 1.1358\n",
      "Epoch 31/100\n",
      "\u001b[1m859/859\u001b[0m \u001b[32m━━━━━━━━━━━━━━━━━━━━\u001b[0m\u001b[37m\u001b[0m \u001b[1m108s\u001b[0m 125ms/step - accuracy: 0.5295 - loss: 1.1391 - val_accuracy: 0.5195 - val_loss: 1.1468\n",
      "Epoch 32/100\n",
      "\u001b[1m859/859\u001b[0m \u001b[32m━━━━━━━━━━━━━━━━━━━━\u001b[0m\u001b[37m\u001b[0m \u001b[1m124s\u001b[0m 144ms/step - accuracy: 0.5301 - loss: 1.1277 - val_accuracy: 0.5205 - val_loss: 1.1321\n",
      "Epoch 33/100\n",
      "\u001b[1m859/859\u001b[0m \u001b[32m━━━━━━━━━━━━━━━━━━━━\u001b[0m\u001b[37m\u001b[0m \u001b[1m110s\u001b[0m 128ms/step - accuracy: 0.5301 - loss: 1.1225 - val_accuracy: 0.5236 - val_loss: 1.1274\n",
      "Epoch 34/100\n",
      "\u001b[1m859/859\u001b[0m \u001b[32m━━━━━━━━━━━━━━━━━━━━\u001b[0m\u001b[37m\u001b[0m \u001b[1m109s\u001b[0m 127ms/step - accuracy: 0.5351 - loss: 1.1286 - val_accuracy: 0.5189 - val_loss: 1.1287\n",
      "Epoch 35/100\n",
      "\u001b[1m859/859\u001b[0m \u001b[32m━━━━━━━━━━━━━━━━━━━━\u001b[0m\u001b[37m\u001b[0m \u001b[1m111s\u001b[0m 129ms/step - accuracy: 0.5364 - loss: 1.1259 - val_accuracy: 0.5243 - val_loss: 1.1374\n",
      "Epoch 36/100\n",
      "\u001b[1m859/859\u001b[0m \u001b[32m━━━━━━━━━━━━━━━━━━━━\u001b[0m\u001b[37m\u001b[0m \u001b[1m113s\u001b[0m 132ms/step - accuracy: 0.5336 - loss: 1.1265 - val_accuracy: 0.5266 - val_loss: 1.1267\n",
      "Epoch 37/100\n",
      "\u001b[1m859/859\u001b[0m \u001b[32m━━━━━━━━━━━━━━━━━━━━\u001b[0m\u001b[37m\u001b[0m \u001b[1m138s\u001b[0m 161ms/step - accuracy: 0.5343 - loss: 1.1272 - val_accuracy: 0.5220 - val_loss: 1.1269\n",
      "Epoch 38/100\n",
      "\u001b[1m859/859\u001b[0m \u001b[32m━━━━━━━━━━━━━━━━━━━━\u001b[0m\u001b[37m\u001b[0m \u001b[1m114s\u001b[0m 133ms/step - accuracy: 0.5313 - loss: 1.1252 - val_accuracy: 0.5202 - val_loss: 1.1243\n",
      "Epoch 39/100\n",
      "\u001b[1m859/859\u001b[0m \u001b[32m━━━━━━━━━━━━━━━━━━━━\u001b[0m\u001b[37m\u001b[0m \u001b[1m115s\u001b[0m 133ms/step - accuracy: 0.5405 - loss: 1.1192 - val_accuracy: 0.5228 - val_loss: 1.1258\n",
      "Epoch 40/100\n",
      "\u001b[1m859/859\u001b[0m \u001b[32m━━━━━━━━━━━━━━━━━━━━\u001b[0m\u001b[37m\u001b[0m \u001b[1m114s\u001b[0m 133ms/step - accuracy: 0.5317 - loss: 1.1269 - val_accuracy: 0.5234 - val_loss: 1.1283\n",
      "Epoch 41/100\n",
      "\u001b[1m859/859\u001b[0m \u001b[32m━━━━━━━━━━━━━━━━━━━━\u001b[0m\u001b[37m\u001b[0m \u001b[1m125s\u001b[0m 145ms/step - accuracy: 0.5355 - loss: 1.1175 - val_accuracy: 0.5169 - val_loss: 1.1355\n",
      "Epoch 42/100\n",
      "\u001b[1m859/859\u001b[0m \u001b[32m━━━━━━━━━━━━━━━━━━━━\u001b[0m\u001b[37m\u001b[0m \u001b[1m135s\u001b[0m 157ms/step - accuracy: 0.5396 - loss: 1.1227 - val_accuracy: 0.5221 - val_loss: 1.1271\n",
      "Epoch 43/100\n",
      "\u001b[1m859/859\u001b[0m \u001b[32m━━━━━━━━━━━━━━━━━━━━\u001b[0m\u001b[37m\u001b[0m \u001b[1m119s\u001b[0m 138ms/step - accuracy: 0.5338 - loss: 1.1184 - val_accuracy: 0.5212 - val_loss: 1.1277\n",
      "Epoch 43: early stopping\n",
      "Restoring model weights from the end of the best epoch: 38.\n"
     ]
    }
   ],
   "source": [
    "# LSTM\n",
    "model = Sequential([\n",
    "    Embedding(input_dim=len(word_index) + 1, \n",
    "              output_dim=embedding_dim, \n",
    "              weights=[embedding_matrix], \n",
    "              input_length=max_len, \n",
    "              trainable=False),\n",
    "    # Conv1D(filters=16, kernel_size = 3, strides= 2, activation=\"relu\", \n",
    "    #        kernel_regularizer=regularizers.L1L2(l1=1e-5, l2=1e-4), bias_regularizer=regularizers.L2(1e-4)),\n",
    "    # Conv1D(filters=8, kernel_size = 3, strides= 2, activation=\"relu\", \n",
    "    #        kernel_regularizer=regularizers.L1L2(l1=1e-5, l2=1e-4), bias_regularizer=regularizers.L2(1e-4)),\n",
    "    LSTM(20, dropout=0.2, recurrent_dropout=0.2, return_sequences = True,\n",
    "         kernel_regularizer=regularizers.L1L2(l1=1e-5, l2=1e-4), bias_regularizer=regularizers.L2(1e-4)),\n",
    "    LSTM(20, dropout=0.2, recurrent_dropout=0.2, \n",
    "         kernel_regularizer=regularizers.L1L2(l1=1e-5, l2=1e-4), bias_regularizer=regularizers.L2(1e-4)),\n",
    "    Dense(5, activation='softmax')\n",
    "])\n",
    "\n",
    "early_stopping = EarlyStopping(\n",
    "    monitor='val_loss',  # Quantity to be monitored.\n",
    "    min_delta=0,  # Minimum change in the monitored quantity to qualify as an improvement.\n",
    "    patience=5,  # Number of epochs with no improvement after which training will be stopped.\n",
    "    verbose=1,  # Verbosity mode, 0 or 1.\n",
    "    mode='auto',  # One of {\"auto\", \"min\", \"max\"}.\n",
    "    baseline=None,  # Baseline value for the monitored quantity to be compared with the loss.\n",
    "    restore_best_weights=True  # Whether to restore model weights from the epoch with the best value of the monitored quantity.\n",
    ")\n",
    "\n",
    "model.compile(loss='sparse_categorical_crossentropy', optimizer='adam', metrics=['accuracy'])\n",
    "model.summary()\n",
    "\n",
    "# training\n",
    "history = model.fit(X_train_pad, y_train, epochs=100, batch_size=32, validation_split=0.2, callbacks = [early_stopping])"
   ]
  },
  {
   "cell_type": "code",
   "execution_count": 94,
   "id": "8c302f9c",
   "metadata": {},
   "outputs": [
    {
     "name": "stdout",
     "output_type": "stream",
     "text": [
      "\u001b[1m461/461\u001b[0m \u001b[32m━━━━━━━━━━━━━━━━━━━━\u001b[0m\u001b[37m\u001b[0m \u001b[1m19s\u001b[0m 38ms/step\n",
      "Accuracy: 0.5212578103776148\n"
     ]
    },
    {
     "data": {
      "image/png": "[encoded data removed]",
      "text/plain": [
       "<Figure size 600x500 with 2 Axes>"
      ]
     },
     "metadata": {},
     "output_type": "display_data"
    },
    {
     "name": "stdout",
     "output_type": "stream",
     "text": [
      "Off by one accuracy: 0.9018609073621299\n"
     ]
    }
   ],
   "source": [
    "y_pred = model.predict(X_test_pad)\n",
    "y_pred_classes = y_pred.argmax(axis=-1)\n",
    "\n",
    "accuracy = accuracy_score(y_test, y_pred_classes)\n",
    "print(\"Accuracy:\", accuracy)\n",
    "\n",
    "cm = confusion_matrix(y_test, y_pred_classes)\n",
    "plt.figure(figsize=(6, 5))\n",
    "sns.heatmap(cm, annot=True, cmap='Oranges', fmt='d')\n",
    "plt.xlabel('Predicted')\n",
    "plt.ylabel('Actual')\n",
    "plt.show()\n",
    "\n",
    "off_by_one = np.mean(np.abs(np.array(y_test) - np.array(y_pred_classes)) <= 1)\n",
    "print(\"Off by one accuracy:\", off_by_one)\n"
   ]
  },
  {
   "cell_type": "code",
   "execution_count": null,
   "id": "ff8564a4",
   "metadata": {},
   "outputs": [],
   "source": []
  },
  {
   "cell_type": "code",
   "execution_count": null,
   "id": "739ead9f",
   "metadata": {},
   "outputs": [],
   "source": []
  }
 ],
 "metadata": {
  "kernelspec": {
   "display_name": "Python 3 (ipykernel)",
   "language": "python",
   "name": "python3"
  },
  "language_info": {
   "codemirror_mode": {
    "name": "ipython",
    "version": 3
   },
   "file_extension": ".py",
   "mimetype": "text/x-python",
   "name": "python",
   "nbconvert_exporter": "python",
   "pygments_lexer": "ipython3",
   "version": "3.11.4"
  }
 },
 "nbformat": 4,
 "nbformat_minor": 5
}
