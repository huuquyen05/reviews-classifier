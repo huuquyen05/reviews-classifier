{
 "cells": [
  {
   "cell_type": "code",
   "execution_count": 1,
   "id": "c4b408f8",
   "metadata": {},
   "outputs": [],
   "source": [
    "import numpy as np\n",
    "import pandas as pd\n",
    "import string\n",
    "import nltk\n",
    "import typing\n",
    "from sklearn.model_selection import train_test_split\n",
    "from sklearn.metrics import confusion_matrix, accuracy_score, f1_score\n",
    "import matplotlib.pyplot as plt\n",
    "import seaborn as sns"
   ]
  },
  {
   "cell_type": "code",
   "execution_count": 2,
   "id": "825ca6b9",
   "metadata": {},
   "outputs": [],
   "source": [
    "from tqdm.notebook import tqdm"
   ]
  },
  {
   "cell_type": "code",
   "execution_count": 3,
   "id": "a14b47ce",
   "metadata": {},
   "outputs": [],
   "source": [
    "from tensorflow.keras.models import Sequential\n",
    "from tensorflow.keras.layers import Dense\n",
    "from tensorflow.keras.utils import to_categorical"
   ]
  },
  {
   "cell_type": "code",
   "execution_count": 4,
   "id": "09ae980f",
   "metadata": {},
   "outputs": [
    {
     "data": {
      "text/html": [
       "<div>\n",
       "<style scoped>\n",
       "    .dataframe tbody tr th:only-of-type {\n",
       "        vertical-align: middle;\n",
       "    }\n",
       "\n",
       "    .dataframe tbody tr th {\n",
       "        vertical-align: top;\n",
       "    }\n",
       "\n",
       "    .dataframe thead th {\n",
       "        text-align: right;\n",
       "    }\n",
       "</style>\n",
       "<table border=\"1\" class=\"dataframe\">\n",
       "  <thead>\n",
       "    <tr style=\"text-align: right;\">\n",
       "      <th></th>\n",
       "      <th>reviewerID</th>\n",
       "      <th>asin</th>\n",
       "      <th>reviewerName</th>\n",
       "      <th>helpful</th>\n",
       "      <th>reviewText</th>\n",
       "      <th>overall</th>\n",
       "      <th>summary</th>\n",
       "      <th>unixReviewTime</th>\n",
       "      <th>reviewTime</th>\n",
       "    </tr>\n",
       "  </thead>\n",
       "  <tbody>\n",
       "    <tr>\n",
       "      <th>0</th>\n",
       "      <td>A30TL5EWN6DFXT</td>\n",
       "      <td>120401325X</td>\n",
       "      <td>christina</td>\n",
       "      <td>[0, 0]</td>\n",
       "      <td>They look good and stick good! I just don't li...</td>\n",
       "      <td>4</td>\n",
       "      <td>Looks Good</td>\n",
       "      <td>1400630400</td>\n",
       "      <td>05 21, 2014</td>\n",
       "    </tr>\n",
       "    <tr>\n",
       "      <th>1</th>\n",
       "      <td>ASY55RVNIL0UD</td>\n",
       "      <td>120401325X</td>\n",
       "      <td>emily l.</td>\n",
       "      <td>[0, 0]</td>\n",
       "      <td>These stickers work like the review says they ...</td>\n",
       "      <td>5</td>\n",
       "      <td>Really great product.</td>\n",
       "      <td>1389657600</td>\n",
       "      <td>01 14, 2014</td>\n",
       "    </tr>\n",
       "    <tr>\n",
       "      <th>2</th>\n",
       "      <td>A2TMXE2AFO7ONB</td>\n",
       "      <td>120401325X</td>\n",
       "      <td>Erica</td>\n",
       "      <td>[0, 0]</td>\n",
       "      <td>These are awesome and make my phone look so st...</td>\n",
       "      <td>5</td>\n",
       "      <td>LOVE LOVE LOVE</td>\n",
       "      <td>1403740800</td>\n",
       "      <td>06 26, 2014</td>\n",
       "    </tr>\n",
       "  </tbody>\n",
       "</table>\n",
       "</div>"
      ],
      "text/plain": [
       "       reviewerID        asin reviewerName helpful  \\\n",
       "0  A30TL5EWN6DFXT  120401325X    christina  [0, 0]   \n",
       "1   ASY55RVNIL0UD  120401325X     emily l.  [0, 0]   \n",
       "2  A2TMXE2AFO7ONB  120401325X        Erica  [0, 0]   \n",
       "\n",
       "                                          reviewText  overall  \\\n",
       "0  They look good and stick good! I just don't li...        4   \n",
       "1  These stickers work like the review says they ...        5   \n",
       "2  These are awesome and make my phone look so st...        5   \n",
       "\n",
       "                 summary  unixReviewTime   reviewTime  \n",
       "0             Looks Good      1400630400  05 21, 2014  \n",
       "1  Really great product.      1389657600  01 14, 2014  \n",
       "2         LOVE LOVE LOVE      1403740800  06 26, 2014  "
      ]
     },
     "execution_count": 4,
     "metadata": {},
     "output_type": "execute_result"
    }
   ],
   "source": [
    "data_dir = \"Cell_Phones_and_Accessories_5.json\"\n",
    "df = pd.read_json(data_dir, lines=True)\n",
    "df.head(3)"
   ]
  },
  {
   "cell_type": "code",
   "execution_count": 5,
   "id": "2a549d91",
   "metadata": {},
   "outputs": [],
   "source": [
    "from vaderSentiment.vaderSentiment import SentimentIntensityAnalyzer\n",
    "sid_analyzer = SentimentIntensityAnalyzer()"
   ]
  },
  {
   "cell_type": "code",
   "execution_count": 6,
   "id": "9aaa5592",
   "metadata": {},
   "outputs": [
    {
     "name": "stdout",
     "output_type": "stream",
     "text": [
      "Number of duplicate values: 0\n"
     ]
    }
   ],
   "source": [
    "# Remove duplicate values\n",
    "df = df.astype(str)\n",
    "duplicates = df.duplicated()\n",
    "print(\"Number of duplicate values:\", duplicates.sum())"
   ]
  },
  {
   "cell_type": "code",
   "execution_count": 7,
   "id": "a54955d5",
   "metadata": {},
   "outputs": [
    {
     "data": {
      "text/html": [
       "<div>\n",
       "<style scoped>\n",
       "    .dataframe tbody tr th:only-of-type {\n",
       "        vertical-align: middle;\n",
       "    }\n",
       "\n",
       "    .dataframe tbody tr th {\n",
       "        vertical-align: top;\n",
       "    }\n",
       "\n",
       "    .dataframe thead th {\n",
       "        text-align: right;\n",
       "    }\n",
       "</style>\n",
       "<table border=\"1\" class=\"dataframe\">\n",
       "  <thead>\n",
       "    <tr style=\"text-align: right;\">\n",
       "      <th></th>\n",
       "      <th>reviewText</th>\n",
       "      <th>overall</th>\n",
       "    </tr>\n",
       "  </thead>\n",
       "  <tbody>\n",
       "    <tr>\n",
       "      <th>0</th>\n",
       "      <td>They look good and stick good! I just don't li...</td>\n",
       "      <td>4</td>\n",
       "    </tr>\n",
       "    <tr>\n",
       "      <th>1</th>\n",
       "      <td>These stickers work like the review says they ...</td>\n",
       "      <td>5</td>\n",
       "    </tr>\n",
       "    <tr>\n",
       "      <th>2</th>\n",
       "      <td>These are awesome and make my phone look so st...</td>\n",
       "      <td>5</td>\n",
       "    </tr>\n",
       "    <tr>\n",
       "      <th>3</th>\n",
       "      <td>Item arrived in great time and was in perfect ...</td>\n",
       "      <td>4</td>\n",
       "    </tr>\n",
       "    <tr>\n",
       "      <th>4</th>\n",
       "      <td>awesome! stays on, and looks great. can be use...</td>\n",
       "      <td>5</td>\n",
       "    </tr>\n",
       "  </tbody>\n",
       "</table>\n",
       "</div>"
      ],
      "text/plain": [
       "                                          reviewText overall\n",
       "0  They look good and stick good! I just don't li...       4\n",
       "1  These stickers work like the review says they ...       5\n",
       "2  These are awesome and make my phone look so st...       5\n",
       "3  Item arrived in great time and was in perfect ...       4\n",
       "4  awesome! stays on, and looks great. can be use...       5"
      ]
     },
     "execution_count": 7,
     "metadata": {},
     "output_type": "execute_result"
    }
   ],
   "source": [
    "# Drop unnecessary columns\n",
    "df = df.drop(['reviewerID'], axis=1)\n",
    "df = df.drop(['asin'], axis=1)\n",
    "df = df.drop(['reviewerName'], axis=1)\n",
    "df = df.drop(['helpful'], axis=1)\n",
    "df = df.drop(['summary'], axis=1)\n",
    "df = df.drop(['unixReviewTime'], axis=1)\n",
    "df = df.drop(['reviewTime'], axis=1)\n",
    "df.head(5)"
   ]
  },
  {
   "cell_type": "code",
   "execution_count": 8,
   "id": "abf89a1a",
   "metadata": {},
   "outputs": [],
   "source": [
    "def get_sentiment(text:str, analyser,desired_type:str='pos'):\n",
    "    sentiment_score = analyser.polarity_scores(text)\n",
    "    return sentiment_score[desired_type]\n",
    "\n",
    "# Get Sentiment scores\n",
    "def get_sentiment_scores(df, data_column):\n",
    "    # Initialize sentiment analyzer\n",
    "    sid_analyzer = SentimentIntensityAnalyzer()\n",
    "    \n",
    "    # Initialize progress bar\n",
    "    pbar = tqdm(total=len(df), desc='Processing', dynamic_ncols=True)\n",
    "    \n",
    "    # Initialize new columns\n",
    "    df[f'{data_column} Positive Sentiment Score'] = 0.0\n",
    "    df[f'{data_column} Negative Sentiment Score'] = 0.0\n",
    "    df[f'{data_column} Neutral Sentiment Score'] = 0.0\n",
    "    df[f'{data_column} Compound Sentiment Score'] = 0.0\n",
    "    \n",
    "    # Calculate sentiment scores for each row\n",
    "    for i in range(len(df)):\n",
    "        text = df.loc[i, data_column]\n",
    "        sentiment_score = sid_analyzer.polarity_scores(str(text))\n",
    "        \n",
    "        df.loc[i, f'{data_column} Positive Sentiment Score'] = sentiment_score['pos']\n",
    "        df.loc[i, f'{data_column} Negative Sentiment Score'] = sentiment_score['neg']\n",
    "        df.loc[i, f'{data_column} Neutral Sentiment Score'] = sentiment_score['neu']\n",
    "        df.loc[i, f'{data_column} Compound Sentiment Score'] = sentiment_score['compound']\n",
    "        \n",
    "        # Update progress bar\n",
    "        pbar.update()\n",
    "    \n",
    "    # Close progress bar\n",
    "    pbar.close()\n",
    "    \n",
    "    return df"
   ]
  },
  {
   "cell_type": "code",
   "execution_count": 9,
   "id": "65362131",
   "metadata": {},
   "outputs": [
    {
     "data": {
      "application/vnd.jupyter.widget-view+json": {
       "model_id": "652a082b7e3e4b809209c2b23e46a25b",
       "version_major": 2,
       "version_minor": 0
      },
      "text/plain": [
       "Processing:   0%|                                                                           | 0/194439 [00:00<…"
      ]
     },
     "metadata": {},
     "output_type": "display_data"
    },
    {
     "data": {
      "text/html": [
       "<div>\n",
       "<style scoped>\n",
       "    .dataframe tbody tr th:only-of-type {\n",
       "        vertical-align: middle;\n",
       "    }\n",
       "\n",
       "    .dataframe tbody tr th {\n",
       "        vertical-align: top;\n",
       "    }\n",
       "\n",
       "    .dataframe thead th {\n",
       "        text-align: right;\n",
       "    }\n",
       "</style>\n",
       "<table border=\"1\" class=\"dataframe\">\n",
       "  <thead>\n",
       "    <tr style=\"text-align: right;\">\n",
       "      <th></th>\n",
       "      <th>reviewText</th>\n",
       "      <th>overall</th>\n",
       "      <th>reviewText Positive Sentiment Score</th>\n",
       "      <th>reviewText Negative Sentiment Score</th>\n",
       "      <th>reviewText Neutral Sentiment Score</th>\n",
       "      <th>reviewText Compound Sentiment Score</th>\n",
       "    </tr>\n",
       "  </thead>\n",
       "  <tbody>\n",
       "    <tr>\n",
       "      <th>54716</th>\n",
       "      <td>I got these to use while skiing when I would h...</td>\n",
       "      <td>3</td>\n",
       "      <td>0.118</td>\n",
       "      <td>0.094</td>\n",
       "      <td>0.788</td>\n",
       "      <td>0.5101</td>\n",
       "    </tr>\n",
       "    <tr>\n",
       "      <th>110850</th>\n",
       "      <td>Highly recommended for anyone going to a theme...</td>\n",
       "      <td>5</td>\n",
       "      <td>0.039</td>\n",
       "      <td>0.041</td>\n",
       "      <td>0.919</td>\n",
       "      <td>-0.0276</td>\n",
       "    </tr>\n",
       "    <tr>\n",
       "      <th>19764</th>\n",
       "      <td>i really love this car charger ! its super che...</td>\n",
       "      <td>5</td>\n",
       "      <td>0.332</td>\n",
       "      <td>0.027</td>\n",
       "      <td>0.641</td>\n",
       "      <td>0.9492</td>\n",
       "    </tr>\n",
       "    <tr>\n",
       "      <th>5874</th>\n",
       "      <td>A car charger is a must for anyone who has a c...</td>\n",
       "      <td>5</td>\n",
       "      <td>0.000</td>\n",
       "      <td>0.133</td>\n",
       "      <td>0.867</td>\n",
       "      <td>-0.6486</td>\n",
       "    </tr>\n",
       "    <tr>\n",
       "      <th>78847</th>\n",
       "      <td>I bought this case for my daughter and she rea...</td>\n",
       "      <td>4</td>\n",
       "      <td>0.091</td>\n",
       "      <td>0.017</td>\n",
       "      <td>0.892</td>\n",
       "      <td>0.7061</td>\n",
       "    </tr>\n",
       "  </tbody>\n",
       "</table>\n",
       "</div>"
      ],
      "text/plain": [
       "                                               reviewText overall  \\\n",
       "54716   I got these to use while skiing when I would h...       3   \n",
       "110850  Highly recommended for anyone going to a theme...       5   \n",
       "19764   i really love this car charger ! its super che...       5   \n",
       "5874    A car charger is a must for anyone who has a c...       5   \n",
       "78847   I bought this case for my daughter and she rea...       4   \n",
       "\n",
       "        reviewText Positive Sentiment Score  \\\n",
       "54716                                 0.118   \n",
       "110850                                0.039   \n",
       "19764                                 0.332   \n",
       "5874                                  0.000   \n",
       "78847                                 0.091   \n",
       "\n",
       "        reviewText Negative Sentiment Score  \\\n",
       "54716                                 0.094   \n",
       "110850                                0.041   \n",
       "19764                                 0.027   \n",
       "5874                                  0.133   \n",
       "78847                                 0.017   \n",
       "\n",
       "        reviewText Neutral Sentiment Score  \\\n",
       "54716                                0.788   \n",
       "110850                               0.919   \n",
       "19764                                0.641   \n",
       "5874                                 0.867   \n",
       "78847                                0.892   \n",
       "\n",
       "        reviewText Compound Sentiment Score  \n",
       "54716                                0.5101  \n",
       "110850                              -0.0276  \n",
       "19764                                0.9492  \n",
       "5874                                -0.6486  \n",
       "78847                                0.7061  "
      ]
     },
     "metadata": {},
     "output_type": "display_data"
    }
   ],
   "source": [
    "text_sentiment = get_sentiment_scores(df,'reviewText')\n",
    "display(text_sentiment.sample(5))"
   ]
  },
  {
   "cell_type": "code",
   "execution_count": 10,
   "id": "581d8040",
   "metadata": {},
   "outputs": [
    {
     "data": {
      "text/html": [
       "<div>\n",
       "<style scoped>\n",
       "    .dataframe tbody tr th:only-of-type {\n",
       "        vertical-align: middle;\n",
       "    }\n",
       "\n",
       "    .dataframe tbody tr th {\n",
       "        vertical-align: top;\n",
       "    }\n",
       "\n",
       "    .dataframe thead th {\n",
       "        text-align: right;\n",
       "    }\n",
       "</style>\n",
       "<table border=\"1\" class=\"dataframe\">\n",
       "  <thead>\n",
       "    <tr style=\"text-align: right;\">\n",
       "      <th></th>\n",
       "      <th>reviewText</th>\n",
       "      <th>pos</th>\n",
       "      <th>neg</th>\n",
       "      <th>neu</th>\n",
       "      <th>overall</th>\n",
       "    </tr>\n",
       "  </thead>\n",
       "  <tbody>\n",
       "    <tr>\n",
       "      <th>0</th>\n",
       "      <td>They look good and stick good! I just don't li...</td>\n",
       "      <td>0.188</td>\n",
       "      <td>0.112</td>\n",
       "      <td>0.700</td>\n",
       "      <td>3</td>\n",
       "    </tr>\n",
       "    <tr>\n",
       "      <th>1</th>\n",
       "      <td>These stickers work like the review says they ...</td>\n",
       "      <td>0.368</td>\n",
       "      <td>0.000</td>\n",
       "      <td>0.632</td>\n",
       "      <td>4</td>\n",
       "    </tr>\n",
       "    <tr>\n",
       "      <th>2</th>\n",
       "      <td>These are awesome and make my phone look so st...</td>\n",
       "      <td>0.226</td>\n",
       "      <td>0.000</td>\n",
       "      <td>0.774</td>\n",
       "      <td>4</td>\n",
       "    </tr>\n",
       "    <tr>\n",
       "      <th>3</th>\n",
       "      <td>Item arrived in great time and was in perfect ...</td>\n",
       "      <td>0.289</td>\n",
       "      <td>0.000</td>\n",
       "      <td>0.711</td>\n",
       "      <td>3</td>\n",
       "    </tr>\n",
       "    <tr>\n",
       "      <th>4</th>\n",
       "      <td>awesome! stays on, and looks great. can be use...</td>\n",
       "      <td>0.357</td>\n",
       "      <td>0.000</td>\n",
       "      <td>0.643</td>\n",
       "      <td>4</td>\n",
       "    </tr>\n",
       "  </tbody>\n",
       "</table>\n",
       "</div>"
      ],
      "text/plain": [
       "                                          reviewText    pos    neg    neu  \\\n",
       "0  They look good and stick good! I just don't li...  0.188  0.112  0.700   \n",
       "1  These stickers work like the review says they ...  0.368  0.000  0.632   \n",
       "2  These are awesome and make my phone look so st...  0.226  0.000  0.774   \n",
       "3  Item arrived in great time and was in perfect ...  0.289  0.000  0.711   \n",
       "4  awesome! stays on, and looks great. can be use...  0.357  0.000  0.643   \n",
       "\n",
       "   overall  \n",
       "0        3  \n",
       "1        4  \n",
       "2        4  \n",
       "3        3  \n",
       "4        4  "
      ]
     },
     "metadata": {},
     "output_type": "display_data"
    }
   ],
   "source": [
    "sentiment_data = text_sentiment[['reviewText', 'reviewText Positive Sentiment Score', 'reviewText Negative Sentiment Score', 'reviewText Neutral Sentiment Score']].copy()\n",
    "\n",
    "sentiment_data.columns = ['reviewText', 'pos', 'neg', 'neu']\n",
    "\n",
    "sentiment_data['overall'] = text_sentiment['overall']\n",
    "\n",
    "sentiment_data['overall'] = sentiment_data['overall'].apply(lambda x: int(x) - 1)\n",
    "\n",
    "#sentiment_data['overall'] = sentiment_data['overall'].apply(lambda x: 0 if x <= 3 else 1)\n",
    "\n",
    "display(sentiment_data.head())"
   ]
  },
  {
   "cell_type": "code",
   "execution_count": 11,
   "id": "1fb7426d",
   "metadata": {},
   "outputs": [
    {
     "data": {
      "text/html": [
       "<div>\n",
       "<style scoped>\n",
       "    .dataframe tbody tr th:only-of-type {\n",
       "        vertical-align: middle;\n",
       "    }\n",
       "\n",
       "    .dataframe tbody tr th {\n",
       "        vertical-align: top;\n",
       "    }\n",
       "\n",
       "    .dataframe thead th {\n",
       "        text-align: right;\n",
       "    }\n",
       "</style>\n",
       "<table border=\"1\" class=\"dataframe\">\n",
       "  <thead>\n",
       "    <tr style=\"text-align: right;\">\n",
       "      <th></th>\n",
       "      <th>reviewText</th>\n",
       "      <th>overall</th>\n",
       "      <th>reviewText Positive Sentiment Score</th>\n",
       "      <th>reviewText Negative Sentiment Score</th>\n",
       "      <th>reviewText Neutral Sentiment Score</th>\n",
       "      <th>reviewText Compound Sentiment Score</th>\n",
       "    </tr>\n",
       "  </thead>\n",
       "  <tbody>\n",
       "    <tr>\n",
       "      <th>162721</th>\n",
       "      <td>Igot this for my wife.  She loves it with two exceptions: 1.  She has a hard time using the handset unless she takes it out of the case, turns on the speaker or uses bluetooth.  2. The picture shows 2 styluii, she only got the small one pictured.  Other than that, the case is nicely constructed and had a feel of quality.</td>\n",
       "      <td>4</td>\n",
       "      <td>0.099</td>\n",
       "      <td>0.021</td>\n",
       "      <td>0.881</td>\n",
       "      <td>0.7351</td>\n",
       "    </tr>\n",
       "    <tr>\n",
       "      <th>172346</th>\n",
       "      <td>it keeps the good looks of the iphone 5s. it has a good grip and good protection on the edges.</td>\n",
       "      <td>5</td>\n",
       "      <td>0.339</td>\n",
       "      <td>0.000</td>\n",
       "      <td>0.661</td>\n",
       "      <td>0.8271</td>\n",
       "    </tr>\n",
       "    <tr>\n",
       "      <th>86367</th>\n",
       "      <td>I have noticed a considerable amount of improvement from my older charger in terms of charging speed, great product and accurate description</td>\n",
       "      <td>5</td>\n",
       "      <td>0.269</td>\n",
       "      <td>0.000</td>\n",
       "      <td>0.731</td>\n",
       "      <td>0.8107</td>\n",
       "    </tr>\n",
       "    <tr>\n",
       "      <th>119765</th>\n",
       "      <td>The best thing about the iPhone 5 is how slim and sleek it is.  This case allows you to retain those qualities with adding a nice level of protection and at a very reasonable cost.  I have two of these cases (two different colors) and both fit perfectly and I'd easily recommend these to friends.</td>\n",
       "      <td>5</td>\n",
       "      <td>0.311</td>\n",
       "      <td>0.000</td>\n",
       "      <td>0.689</td>\n",
       "      <td>0.9670</td>\n",
       "    </tr>\n",
       "    <tr>\n",
       "      <th>110875</th>\n",
       "      <td>Easy to lock and unlock with no moist or condensation.  Plastic cover is nice and clear with good visual and operate in.  Durable and accessible without complications.</td>\n",
       "      <td>5</td>\n",
       "      <td>0.316</td>\n",
       "      <td>0.062</td>\n",
       "      <td>0.621</td>\n",
       "      <td>0.8402</td>\n",
       "    </tr>\n",
       "  </tbody>\n",
       "</table>\n",
       "</div>"
      ],
      "text/plain": [
       "                                                                                                                                                                                                                                                                                                                                reviewText  \\\n",
       "162721  Igot this for my wife.  She loves it with two exceptions: 1.  She has a hard time using the handset unless she takes it out of the case, turns on the speaker or uses bluetooth.  2. The picture shows 2 styluii, she only got the small one pictured.  Other than that, the case is nicely constructed and had a feel of quality.   \n",
       "172346                                                                                                                                                                                                                                      it keeps the good looks of the iphone 5s. it has a good grip and good protection on the edges.   \n",
       "86367                                                                                                                                                                                         I have noticed a considerable amount of improvement from my older charger in terms of charging speed, great product and accurate description   \n",
       "119765                            The best thing about the iPhone 5 is how slim and sleek it is.  This case allows you to retain those qualities with adding a nice level of protection and at a very reasonable cost.  I have two of these cases (two different colors) and both fit perfectly and I'd easily recommend these to friends.   \n",
       "110875                                                                                                                                                             Easy to lock and unlock with no moist or condensation.  Plastic cover is nice and clear with good visual and operate in.  Durable and accessible without complications.   \n",
       "\n",
       "       overall  reviewText Positive Sentiment Score  \\\n",
       "162721       4                                0.099   \n",
       "172346       5                                0.339   \n",
       "86367        5                                0.269   \n",
       "119765       5                                0.311   \n",
       "110875       5                                0.316   \n",
       "\n",
       "        reviewText Negative Sentiment Score  \\\n",
       "162721                                0.021   \n",
       "172346                                0.000   \n",
       "86367                                 0.000   \n",
       "119765                                0.000   \n",
       "110875                                0.062   \n",
       "\n",
       "        reviewText Neutral Sentiment Score  \\\n",
       "162721                               0.881   \n",
       "172346                               0.661   \n",
       "86367                                0.731   \n",
       "119765                               0.689   \n",
       "110875                               0.621   \n",
       "\n",
       "        reviewText Compound Sentiment Score  \n",
       "162721                               0.7351  \n",
       "172346                               0.8271  \n",
       "86367                                0.8107  \n",
       "119765                               0.9670  \n",
       "110875                               0.8402  "
      ]
     },
     "metadata": {},
     "output_type": "display_data"
    }
   ],
   "source": [
    "pd.set_option('display.max_colwidth', None)\n",
    "display(text_sentiment.sample(5))"
   ]
  },
  {
   "cell_type": "code",
   "execution_count": 12,
   "id": "4a59592e",
   "metadata": {},
   "outputs": [],
   "source": [
    "# text_sentiment = text_sentiment.head(10000)"
   ]
  },
  {
   "cell_type": "code",
   "execution_count": 13,
   "id": "33340d5d",
   "metadata": {},
   "outputs": [],
   "source": [
    "min_class_count = sentiment_data['overall'].value_counts().min()\n",
    "\n",
    "downsampled_data = pd.DataFrame()\n",
    "\n",
    "for label in sentiment_data['overall'].unique():\n",
    "    label_data = sentiment_data[sentiment_data['overall'] == label]\n",
    "    downsampled_label_data = label_data.sample(min_class_count)\n",
    "    downsampled_data = pd.concat([downsampled_data, downsampled_label_data])\n",
    "\n",
    "sentiment_data = downsampled_data"
   ]
  },
  {
   "cell_type": "code",
   "execution_count": 14,
   "id": "68686dfa",
   "metadata": {},
   "outputs": [],
   "source": [
    "X = sentiment_data[['pos', 'neu', 'neg']]\n",
    "y = sentiment_data['overall']\n",
    "X_train, X_test, y_train, y_test = train_test_split(X, y, test_size=0.3, random_state=42)"
   ]
  },
  {
   "cell_type": "code",
   "execution_count": 15,
   "id": "ffcfb41c",
   "metadata": {},
   "outputs": [
    {
     "name": "stderr",
     "output_type": "stream",
     "text": [
      "C:\\Users\\Admin\\anaconda3\\Lib\\site-packages\\keras\\src\\layers\\core\\dense.py:87: UserWarning: Do not pass an `input_shape`/`input_dim` argument to a layer. When using Sequential models, prefer using an `Input(shape)` object as the first layer in the model instead.\n",
      "  super().__init__(activity_regularizer=activity_regularizer, **kwargs)\n"
     ]
    },
    {
     "data": {
      "text/html": [
       "<pre style=\"white-space:pre;overflow-x:auto;line-height:normal;font-family:Menlo,'DejaVu Sans Mono',consolas,'Courier New',monospace\"><span style=\"font-weight: bold\">Model: \"sequential\"</span>\n",
       "</pre>\n"
      ],
      "text/plain": [
       "\u001b[1mModel: \"sequential\"\u001b[0m\n"
      ]
     },
     "metadata": {},
     "output_type": "display_data"
    },
    {
     "data": {
      "text/html": [
       "<pre style=\"white-space:pre;overflow-x:auto;line-height:normal;font-family:Menlo,'DejaVu Sans Mono',consolas,'Courier New',monospace\">┏━━━━━━━━━━━━━━━━━━━━━━━━━━━━━━━━━━━━━━┳━━━━━━━━━━━━━━━━━━━━━━━━━━━━━┳━━━━━━━━━━━━━━━━━┓\n",
       "┃<span style=\"font-weight: bold\"> Layer (type)                         </span>┃<span style=\"font-weight: bold\"> Output Shape                </span>┃<span style=\"font-weight: bold\">         Param # </span>┃\n",
       "┡━━━━━━━━━━━━━━━━━━━━━━━━━━━━━━━━━━━━━━╇━━━━━━━━━━━━━━━━━━━━━━━━━━━━━╇━━━━━━━━━━━━━━━━━┩\n",
       "│ dense (<span style=\"color: #0087ff; text-decoration-color: #0087ff\">Dense</span>)                        │ (<span style=\"color: #00d7ff; text-decoration-color: #00d7ff\">None</span>, <span style=\"color: #00af00; text-decoration-color: #00af00\">5</span>)                   │              <span style=\"color: #00af00; text-decoration-color: #00af00\">20</span> │\n",
       "├──────────────────────────────────────┼─────────────────────────────┼─────────────────┤\n",
       "│ dense_1 (<span style=\"color: #0087ff; text-decoration-color: #0087ff\">Dense</span>)                      │ (<span style=\"color: #00d7ff; text-decoration-color: #00d7ff\">None</span>, <span style=\"color: #00af00; text-decoration-color: #00af00\">5</span>)                   │              <span style=\"color: #00af00; text-decoration-color: #00af00\">30</span> │\n",
       "├──────────────────────────────────────┼─────────────────────────────┼─────────────────┤\n",
       "│ dense_2 (<span style=\"color: #0087ff; text-decoration-color: #0087ff\">Dense</span>)                      │ (<span style=\"color: #00d7ff; text-decoration-color: #00d7ff\">None</span>, <span style=\"color: #00af00; text-decoration-color: #00af00\">5</span>)                   │              <span style=\"color: #00af00; text-decoration-color: #00af00\">30</span> │\n",
       "└──────────────────────────────────────┴─────────────────────────────┴─────────────────┘\n",
       "</pre>\n"
      ],
      "text/plain": [
       "┏━━━━━━━━━━━━━━━━━━━━━━━━━━━━━━━━━━━━━━┳━━━━━━━━━━━━━━━━━━━━━━━━━━━━━┳━━━━━━━━━━━━━━━━━┓\n",
       "┃\u001b[1m \u001b[0m\u001b[1mLayer (type)                        \u001b[0m\u001b[1m \u001b[0m┃\u001b[1m \u001b[0m\u001b[1mOutput Shape               \u001b[0m\u001b[1m \u001b[0m┃\u001b[1m \u001b[0m\u001b[1m        Param #\u001b[0m\u001b[1m \u001b[0m┃\n",
       "┡━━━━━━━━━━━━━━━━━━━━━━━━━━━━━━━━━━━━━━╇━━━━━━━━━━━━━━━━━━━━━━━━━━━━━╇━━━━━━━━━━━━━━━━━┩\n",
       "│ dense (\u001b[38;5;33mDense\u001b[0m)                        │ (\u001b[38;5;45mNone\u001b[0m, \u001b[38;5;34m5\u001b[0m)                   │              \u001b[38;5;34m20\u001b[0m │\n",
       "├──────────────────────────────────────┼─────────────────────────────┼─────────────────┤\n",
       "│ dense_1 (\u001b[38;5;33mDense\u001b[0m)                      │ (\u001b[38;5;45mNone\u001b[0m, \u001b[38;5;34m5\u001b[0m)                   │              \u001b[38;5;34m30\u001b[0m │\n",
       "├──────────────────────────────────────┼─────────────────────────────┼─────────────────┤\n",
       "│ dense_2 (\u001b[38;5;33mDense\u001b[0m)                      │ (\u001b[38;5;45mNone\u001b[0m, \u001b[38;5;34m5\u001b[0m)                   │              \u001b[38;5;34m30\u001b[0m │\n",
       "└──────────────────────────────────────┴─────────────────────────────┴─────────────────┘\n"
      ]
     },
     "metadata": {},
     "output_type": "display_data"
    },
    {
     "data": {
      "text/html": [
       "<pre style=\"white-space:pre;overflow-x:auto;line-height:normal;font-family:Menlo,'DejaVu Sans Mono',consolas,'Courier New',monospace\"><span style=\"font-weight: bold\"> Total params: </span><span style=\"color: #00af00; text-decoration-color: #00af00\">80</span> (320.00 B)\n",
       "</pre>\n"
      ],
      "text/plain": [
       "\u001b[1m Total params: \u001b[0m\u001b[38;5;34m80\u001b[0m (320.00 B)\n"
      ]
     },
     "metadata": {},
     "output_type": "display_data"
    },
    {
     "data": {
      "text/html": [
       "<pre style=\"white-space:pre;overflow-x:auto;line-height:normal;font-family:Menlo,'DejaVu Sans Mono',consolas,'Courier New',monospace\"><span style=\"font-weight: bold\"> Trainable params: </span><span style=\"color: #00af00; text-decoration-color: #00af00\">80</span> (320.00 B)\n",
       "</pre>\n"
      ],
      "text/plain": [
       "\u001b[1m Trainable params: \u001b[0m\u001b[38;5;34m80\u001b[0m (320.00 B)\n"
      ]
     },
     "metadata": {},
     "output_type": "display_data"
    },
    {
     "data": {
      "text/html": [
       "<pre style=\"white-space:pre;overflow-x:auto;line-height:normal;font-family:Menlo,'DejaVu Sans Mono',consolas,'Courier New',monospace\"><span style=\"font-weight: bold\"> Non-trainable params: </span><span style=\"color: #00af00; text-decoration-color: #00af00\">0</span> (0.00 B)\n",
       "</pre>\n"
      ],
      "text/plain": [
       "\u001b[1m Non-trainable params: \u001b[0m\u001b[38;5;34m0\u001b[0m (0.00 B)\n"
      ]
     },
     "metadata": {},
     "output_type": "display_data"
    }
   ],
   "source": [
    "model = Sequential([\n",
    "    Dense(5, input_dim=3, activation='relu'),\n",
    "    Dense(5, activation='relu'),\n",
    "    Dense(5, activation='softmax')\n",
    "])\n",
    "\n",
    "model.compile(loss='categorical_crossentropy', optimizer='adam', metrics=['accuracy'])\n",
    "\n",
    "model.summary()"
   ]
  },
  {
   "cell_type": "code",
   "execution_count": 16,
   "id": "6fd821ab",
   "metadata": {},
   "outputs": [
    {
     "name": "stdout",
     "output_type": "stream",
     "text": [
      "Epoch 1/5\n",
      "\u001b[1m969/969\u001b[0m \u001b[32m━━━━━━━━━━━━━━━━━━━━\u001b[0m\u001b[37m\u001b[0m \u001b[1m4s\u001b[0m 2ms/step - accuracy: 0.2127 - loss: 1.6060 - val_accuracy: 0.2865 - val_loss: 1.5276\n",
      "Epoch 2/5\n",
      "\u001b[1m969/969\u001b[0m \u001b[32m━━━━━━━━━━━━━━━━━━━━\u001b[0m\u001b[37m\u001b[0m \u001b[1m2s\u001b[0m 2ms/step - accuracy: 0.3235 - loss: 1.4776 - val_accuracy: 0.3447 - val_loss: 1.4376\n",
      "Epoch 3/5\n",
      "\u001b[1m969/969\u001b[0m \u001b[32m━━━━━━━━━━━━━━━━━━━━\u001b[0m\u001b[37m\u001b[0m \u001b[1m2s\u001b[0m 2ms/step - accuracy: 0.3445 - loss: 1.4346 - val_accuracy: 0.3447 - val_loss: 1.4354\n",
      "Epoch 4/5\n",
      "\u001b[1m969/969\u001b[0m \u001b[32m━━━━━━━━━━━━━━━━━━━━\u001b[0m\u001b[37m\u001b[0m \u001b[1m2s\u001b[0m 2ms/step - accuracy: 0.3508 - loss: 1.4290 - val_accuracy: 0.3496 - val_loss: 1.4341\n",
      "Epoch 5/5\n",
      "\u001b[1m969/969\u001b[0m \u001b[32m━━━━━━━━━━━━━━━━━━━━\u001b[0m\u001b[37m\u001b[0m \u001b[1m1s\u001b[0m 2ms/step - accuracy: 0.3472 - loss: 1.4313 - val_accuracy: 0.3499 - val_loss: 1.4342\n"
     ]
    }
   ],
   "source": [
    "y_train_categorical = to_categorical(y_train)\n",
    "history = model.fit(X_train, y_train_categorical, epochs=5, batch_size=32, validation_split=0.2)"
   ]
  },
  {
   "cell_type": "code",
   "execution_count": 17,
   "id": "34e12e3e",
   "metadata": {},
   "outputs": [
    {
     "name": "stdout",
     "output_type": "stream",
     "text": [
      "\u001b[1m519/519\u001b[0m \u001b[32m━━━━━━━━━━━━━━━━━━━━\u001b[0m\u001b[37m\u001b[0m \u001b[1m1s\u001b[0m 1ms/step\n"
     ]
    }
   ],
   "source": [
    "y_pred = model.predict(X_test)\n",
    "y_pred_classes = y_pred.argmax(axis=-1)"
   ]
  },
  {
   "cell_type": "code",
   "execution_count": 18,
   "id": "6d6f61db",
   "metadata": {},
   "outputs": [
    {
     "data": {
      "image/png": "[encoded data removed]",
      "text/plain": [
       "<Figure size 600x500 with 2 Axes>"
      ]
     },
     "metadata": {},
     "output_type": "display_data"
    }
   ],
   "source": [
    "cm = confusion_matrix(y_test, y_pred_classes)\n",
    "\n",
    "plt.figure(figsize=(6, 5))\n",
    "sns.heatmap(cm, annot=True, cmap='Oranges', fmt = 'd')\n",
    "\n",
    "plt.xlabel('Predicted')\n",
    "plt.ylabel('Actual')\n",
    "plt.show()"
   ]
  },
  {
   "cell_type": "code",
   "execution_count": 19,
   "id": "5f1bfc62",
   "metadata": {},
   "outputs": [
    {
     "name": "stdout",
     "output_type": "stream",
     "text": [
      "accuracy: 0.34128705712219815\n",
      "accuracy off-by-one: 0.7113159797541576\n",
      "f1 score: 0.32059016584896155\n"
     ]
    }
   ],
   "source": [
    "accuracy = accuracy_score(y_test, y_pred_classes)\n",
    "print('accuracy:', accuracy)\n",
    "off_by_one = np.mean(np.abs(np.array(y_test) - np.array(y_pred_classes)) <= 1)\n",
    "print('accuracy off-by-one:', off_by_one)\n",
    "f1 = f1_score(y_test, y_pred_classes, average = 'macro')\n",
    "print('f1 score:', f1)"
   ]
  },
  {
   "cell_type": "code",
   "execution_count": 20,
   "id": "6e4bbdad",
   "metadata": {},
   "outputs": [
    {
     "name": "stdout",
     "output_type": "stream",
     "text": [
      "0: 3329\n",
      "1: 3287\n",
      "2: 3312\n",
      "3: 3379\n",
      "4: 3289\n"
     ]
    }
   ],
   "source": [
    "for i in range(5):\n",
    "    print(f'{i}:', (y_test == i).sum())"
   ]
  },
  {
   "cell_type": "code",
   "execution_count": 21,
   "id": "41ac527c",
   "metadata": {},
   "outputs": [
    {
     "name": "stdout",
     "output_type": "stream",
     "text": [
      "text: My electrify M fits great with a Ballistic case attached. Gotta get a couple more. I carry concrete, blocks , lumber, plywood, sand, etc. and my phone never hits anything or goes to the floor.\n",
      "predicted: 2\n",
      "label: 4\n",
      "text: hey dont get me wrong but i didnt buy this just so my iphone can be dipped in the water. i want to take underwater pics. but this plastic is cloudy and makes the pics blurry even when not underwater.\n",
      "predicted: 2\n",
      "label: 0\n",
      "text: received the back door. it looks and feels oem as stated and is in great condition. received it fast and installed it no issues.\n",
      "predicted: 2\n",
      "label: 4\n",
      "text: I bought the straight versions when I was using a Droid X.  With my Galaxy Nexus, these are a must have to use in the car and at work to keep the cord off to the side.\n",
      "predicted: 2\n",
      "label: 4\n",
      "text: Phone came with a damaged screen. I live outside the US so now i have to accept my faith...Shame on you Amazon...\n",
      "predicted: 2\n",
      "label: 0\n",
      "text: \n",
      "predicted: 2\n",
      "label: 0\n",
      "text: bought this for the wife and it fits extremely well.  really didnt know what to expect with the quality of the item, but it has been durable to date and my wife can be a little rough on items\n",
      "predicted: 2\n",
      "label: 4\n",
      "text: I bought this cover for my Samsung galaxy player 3.6 but this not protect the player at all. It is too soft to protect a delicate device.\n",
      "predicted: 2\n",
      "label: 0\n",
      "text: I'm no stranger to Otterbox.  This case was surprisingly light and slim for my iPhone 5.  It is a lot lighter than my iPhone 4 with case.  Quality construction.  Highly recommend.\n",
      "predicted: 2\n",
      "label: 4\n",
      "text: The protector is good, but cannot fit the curved Nexus 4 screen. I have not found a protector that will. I guess I will have to hope the screen is durable enough that it does not need a protector.\n",
      "predicted: 2\n",
      "label: 0\n"
     ]
    }
   ],
   "source": [
    "cnt = 0\n",
    "sentiment_data = sentiment_data.sample(frac=1).reset_index(drop=True)\n",
    "for idx, row in sentiment_data.iterrows():\n",
    "    x = row[['pos', 'neu', 'neg']]\n",
    "    x = np.asarray(x).astype('float32').reshape(1, -1)\n",
    "    if((row['overall'] == 0 or row['overall'] == 4)and np.argmax(model.predict(x, verbose = 0)) == 2 and len(row['reviewText']) <= 200):\n",
    "        cnt += 1\n",
    "        print(f\"text: {row['reviewText']}\")\n",
    "        print(f\"predicted: {np.argmax(model.predict(x, verbose = 0))}\")\n",
    "        print(f\"label: {row['overall']}\")\n",
    "        if(cnt == 10): break"
   ]
  },
  {
   "cell_type": "code",
   "execution_count": 33,
   "id": "91e1becf",
   "metadata": {},
   "outputs": [
    {
     "data": {
      "image/png": "[encoded data removed]",
      "text/plain": [
       "<Figure size 640x480 with 1 Axes>"
      ]
     },
     "metadata": {},
     "output_type": "display_data"
    }
   ],
   "source": [
    "c = ['red', 'yellow', 'green', 'blue', 'black']\n",
    "labels = {1: '2', 2: '3', 3: '4'}\n",
    "plotted_labels = set()\n",
    "\n",
    "for idx, row in sentiment_data.iterrows():\n",
    "    if row['overall'] not in labels: continue\n",
    "    label = labels[row['overall']]\n",
    "    if label not in plotted_labels:\n",
    "        plt.scatter(row['pos'], row['neg'], color=c[row['overall']], label=label)\n",
    "        plotted_labels.add(label)\n",
    "    else:\n",
    "        plt.scatter(row['pos'], row['neg'], color=c[row['overall']])\n",
    "    if idx > 1000: break\n",
    "\n",
    "# Get handles and labels, then sort them\n",
    "handles, labels = plt.gca().get_legend_handles_labels()\n",
    "sorted_handles_labels = sorted(zip(handles, labels), key=lambda x: x[1])\n",
    "sorted_handles, sorted_labels = zip(*sorted_handles_labels)\n",
    "\n",
    "plt.legend(sorted_handles, sorted_labels, loc='upper right')\n",
    "plt.xlabel(\"pos\")\n",
    "plt.ylabel(\"neg\")\n",
    "plt.show()\n"
   ]
  },
  {
   "cell_type": "code",
   "execution_count": 34,
   "id": "34daaa6c",
   "metadata": {},
   "outputs": [
    {
     "data": {
      "image/png": "[encoded data removed]",
      "text/plain": [
       "<Figure size 640x480 with 1 Axes>"
      ]
     },
     "metadata": {},
     "output_type": "display_data"
    }
   ],
   "source": [
    "c = ['red', 'yellow', 'green', 'blue', 'black']\n",
    "labels = {0: '1', 4: '5'}\n",
    "plotted_labels = set()\n",
    "\n",
    "for idx, row in sentiment_data.iterrows():\n",
    "    if row['overall'] not in labels: continue\n",
    "    label = labels[row['overall']]\n",
    "    if label not in plotted_labels:\n",
    "        plt.scatter(row['pos'], row['neg'], color=c[row['overall']], label=label)\n",
    "        plotted_labels.add(label)\n",
    "    else:\n",
    "        plt.scatter(row['pos'], row['neg'], color=c[row['overall']])\n",
    "    if idx > 1000: break\n",
    "\n",
    "# Get handles and labels, then sort them\n",
    "handles, labels = plt.gca().get_legend_handles_labels()\n",
    "sorted_handles_labels = sorted(zip(handles, labels), key=lambda x: x[1])\n",
    "sorted_handles, sorted_labels = zip(*sorted_handles_labels)\n",
    "\n",
    "plt.legend(sorted_handles, sorted_labels, loc='upper right')\n",
    "plt.xlabel(\"pos\")\n",
    "plt.ylabel(\"neg\")\n",
    "plt.show()\n"
   ]
  },
  {
   "cell_type": "code",
   "execution_count": null,
   "id": "5e75ba93",
   "metadata": {},
   "outputs": [],
   "source": []
  }
 ],
 "metadata": {
  "kernelspec": {
   "display_name": "Python 3 (ipykernel)",
   "language": "python",
   "name": "python3"
  },
  "language_info": {
   "codemirror_mode": {
    "name": "ipython",
    "version": 3
   },
   "file_extension": ".py",
   "mimetype": "text/x-python",
   "name": "python",
   "nbconvert_exporter": "python",
   "pygments_lexer": "ipython3",
   "version": "3.11.4"
  }
 },
 "nbformat": 4,
 "nbformat_minor": 5
}
